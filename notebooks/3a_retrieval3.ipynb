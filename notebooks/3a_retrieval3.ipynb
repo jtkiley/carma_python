{
 "cells": [
  {
   "attachments": {},
   "cell_type": "markdown",
   "metadata": {},
   "source": [
    "# Data Retrieval III (SQL)\n",
    "\n",
    "In this notebook, we will work with the following:\n",
    "\n",
    "1. SELECT statements.\n",
    "2. Aggregation.\n",
    "3. Window functions.\n",
    "4. Joins."
   ]
  },
  {
   "cell_type": "code",
   "execution_count": null,
   "metadata": {},
   "outputs": [],
   "source": [
    "from os import environ\n",
    "import urllib.parse\n",
    "\n",
    "from wrds.sql import (\n",
    "    WRDS_POSTGRES_HOST,\n",
    "    WRDS_POSTGRES_DB,\n",
    "    WRDS_POSTGRES_PORT,\n",
    ")"
   ]
  },
  {
   "cell_type": "code",
   "execution_count": null,
   "metadata": {},
   "outputs": [],
   "source": [
    "environ[\"DATABASE_URL\"] = (\n",
    "    f\"postgresql://{environ['WRDS_USER']}:\"\n",
    "    f\"{urllib.parse.quote_plus(environ['WRDS_PASS'])}@\"\n",
    "    f\"{WRDS_POSTGRES_HOST}:{WRDS_POSTGRES_PORT}/\"\n",
    "    f\"{WRDS_POSTGRES_DB}\"\n",
    ")"
   ]
  },
  {
   "cell_type": "code",
   "execution_count": null,
   "metadata": {},
   "outputs": [],
   "source": [
    "%load_ext sql\n",
    "%config SqlMagic.autopandas=True\n",
    "%config SqlMagic.displaycon=False\n",
    "%config SqlMagic.feedback=False"
   ]
  },
  {
   "cell_type": "code",
   "execution_count": null,
   "metadata": {},
   "outputs": [],
   "source": [
    "# Uncomment and run the line below to see options.\n",
    "# %config SqlMagic"
   ]
  },
  {
   "cell_type": "code",
   "execution_count": null,
   "metadata": {},
   "outputs": [],
   "source": [
    "%sql"
   ]
  },
  {
   "attachments": {},
   "cell_type": "markdown",
   "metadata": {},
   "source": [
    "# SQL\n",
    "\n",
    "SQL is **structured query language**, and it is a way that we can specify to a database management system (\"DBMS\") the form of data that we would like it to return to us.\n",
    "This is another deep topic, but like the others, we can accomplish a lot for research with some well-chosen basics.\n",
    "\n",
    "A DBMS generally stores data in tables, which are 2D datasets like the pandas dataframes or stats software datasets that we are accustomed to using.\n",
    "These tables are related to each other using keys in one-to-one, one-to-many, and many-to-one relationships, hence the name \"relational database.\"\n",
    "\n",
    "SQL in research is most helpful in two particular cases:\n",
    "\n",
    "1. Retrieving data from a data service that runs a DBMS for us (e.g., WRDS).\n",
    "2. Creating and using a local database to help deal with big data that is more granular than we ultimately need.\n",
    "\n",
    "We will focus below on the first case."
   ]
  },
  {
   "attachments": {},
   "cell_type": "markdown",
   "metadata": {},
   "source": [
    "# SELECT statements\n",
    "\n",
    "A `SELECT` statement tells the DBMS that we would like to select certain data from a table.\n",
    "Its basic anatomy is quite simple:\n",
    "\n",
    "```sql\n",
    "SELECT *\n",
    "  FROM comp.funda;\n",
    "```\n",
    "\n",
    "Above, `SELECT *` means that we want to select every column.\n",
    "This is generally bad form, because, in practice, we rarely need all of the columns.\n",
    "`FROM comp.funda` tells the DMBS that we want the `comp.funda` table, which is the Compustat Daily Updates - Fundamentals Annual.\n",
    "When using WRDS, the database names are available at the top of the variable descriptions for a given table/query form.\n",
    "\n",
    "The semicolon at the end signifies the end of the query.\n",
    "Unlike Python, SQL does not use whitespace as syntax, though there are style [conventions](https://www.sqlstyle.guide)."
   ]
  },
  {
   "cell_type": "code",
   "execution_count": null,
   "metadata": {
    "vscode": {
     "languageId": "sql"
    }
   },
   "outputs": [],
   "source": [
    "%%sql\n",
    "SELECT *\n",
    "  FROM comp.funda\n",
    " LIMIT 10\n"
   ]
  },
  {
   "attachments": {},
   "cell_type": "markdown",
   "metadata": {},
   "source": [
    "If we want to keep a result, we can use the syntax below.\n",
    "After the `%%sql` cell magic, we give a name to the results we want to assign to a name (e.g., `df01`), and then a space and `<<` before the query.\n",
    "\n",
    "In combination with the `autopandas` setting above, our result will be a pandas dataframe."
   ]
  },
  {
   "cell_type": "code",
   "execution_count": null,
   "metadata": {
    "vscode": {
     "languageId": "sql"
    }
   },
   "outputs": [],
   "source": [
    "%%sql df01 <<\n",
    "SELECT *\n",
    "  FROM comp.funda\n",
    " LIMIT 10\n"
   ]
  },
  {
   "cell_type": "code",
   "execution_count": null,
   "metadata": {},
   "outputs": [],
   "source": [
    "df01.head()  # noqa: F821"
   ]
  },
  {
   "attachments": {},
   "cell_type": "markdown",
   "metadata": {},
   "source": [
    "## *Aside: code testing*\n",
    "\n",
    "(Feel free to skip)\n",
    "\n",
    "You may have noticed the comment, `# noqa: F821`, in the method call above.\n",
    "\n",
    "This is a specially-formatted comment that tells my testing infrastructure to ignore (i.e. no quality assurance, or `noqa`, error for the type F821, which corresponds with a `NameError`).\n",
    "The reason we need to capture it is that the code testing tool doesn't understand the `%%sql` magic commands, and it can't find where `df01` was previously defined.\n",
    "\n",
    "For a project of this scope and update frequency, it helps to have some automated testing that helps me catch when things stop working.\n",
    "One part of that is suppressing errors that happen for some technical or intended reason, to isolate real problems."
   ]
  },
  {
   "cell_type": "code",
   "execution_count": null,
   "metadata": {},
   "outputs": [],
   "source": [
    "# We can look at all of these column names if we like.\n",
    "# df01.columns.to_list()"
   ]
  },
  {
   "attachments": {},
   "cell_type": "markdown",
   "metadata": {},
   "source": [
    "Note two things in particular in the query and results above.\n",
    "\n",
    "First, I used the `LIMIT` keyword with a value of `10`.\n",
    "Compustat is a huge dataset, and retrieving everything would be a big download.\n",
    "When we are experimenting or iterating on a query, using `LIMIT` asks the server to provide only a number of results up to the parameter to limit.\n",
    "This is a strong norm when using this kind of data, as it dramatically reduces the load on the server.\n",
    "`LIMIT` becomes more important as we ask the server to do transformation work for us, which increases the computational demand.\n",
    "\n",
    "Second, there are 948 columns in this dataset.\n",
    "Chances are, this is many more than we want, so we should narrow down to the variables of interest."
   ]
  },
  {
   "cell_type": "code",
   "execution_count": null,
   "metadata": {
    "vscode": {
     "languageId": "sql"
    }
   },
   "outputs": [],
   "source": [
    "%%sql\n",
    "SELECT gvkey, fyear, conm, tic, cusip\n",
    "       , at, lt\n",
    "  FROM comp.funda\n",
    " WHERE (datafmt = 'STD')\n",
    " LIMIT 10\n"
   ]
  },
  {
   "attachments": {},
   "cell_type": "markdown",
   "metadata": {},
   "source": [
    "There are two changes above.\n",
    "First, we picked explicit column names.\n",
    "\n",
    "Second, we added a `WHERE` clause to impose a condition on the data that we want back.\n",
    "In this case, we asked for rows where the column `datafmt` has a value of `STD`.\n",
    "The default query form for Compustat returns only these standard data formats, so we recreate that here."
   ]
  },
  {
   "cell_type": "code",
   "execution_count": null,
   "metadata": {
    "vscode": {
     "languageId": "sql"
    }
   },
   "outputs": [],
   "source": [
    "%%sql\n",
    "SELECT gvkey, fyear, conm, tic\n",
    "       , cusip AS cusip9\n",
    "       , SUBSTRING(cusip, 1, 8) AS cusip8\n",
    "       , at, lt\n",
    "  FROM comp.funda\n",
    " WHERE (datafmt = 'STD') AND\n",
    "       (fyear BETWEEN 2000 AND 2020)\n",
    " LIMIT 10\n"
   ]
  },
  {
   "attachments": {},
   "cell_type": "markdown",
   "metadata": {},
   "source": [
    "Here, we made three more changes.\n",
    "First, we asked for the `cusip` column to be called `cusip9` in our results using `AS`.\n",
    "Second, we used a function to transform the `cusip` column (using the `SUBSTRING()` function) to give us only eight characters and to name it `cusip8`.\n",
    "This is a simple example of having the server do prep work for us.\n",
    "Finally, we added a second condition to `WHERE`: a year restriction."
   ]
  },
  {
   "attachments": {},
   "cell_type": "markdown",
   "metadata": {},
   "source": [
    "# Aggregation\n",
    "\n",
    "Sometimes, the data in a table is more granular than the data that we returned to us.\n",
    "So, we can ask the server to aggregate it for us, returning an aggregated dataset.\n",
    "\n",
    "There are a few important things to know:\n",
    "\n",
    "1. We use `GROUP BY` to tell the DBMS how to group rows before aggregating.\n",
    "2. Every column must either be in the `GROUP BY` or have an aggregation function applied. A notable example here is that we ask for the `MAX` of the company name. If the name changes in the rows of the search, the DBMS would need to know how to choose. However, this is enforced as a general rule, not only when there is an actual conflict to resolve.\n",
    "3. Order of the statements matter. For example, `WHERE` needs to be after `FROM` and before `GROUP BY`. I've done them here, so it will work, but this is a topic better explored in an introductory book on SQL."
   ]
  },
  {
   "cell_type": "code",
   "execution_count": null,
   "metadata": {
    "vscode": {
     "languageId": "sql"
    }
   },
   "outputs": [],
   "source": [
    "%%sql\n",
    "  SELECT gvkey\n",
    "         , MAX(conm) AS co_name\n",
    "         , AVG(at) AS assets_avg\n",
    "         , SUM(ni) AS netincome_total\n",
    "    FROM comp.funda\n",
    "   WHERE (datafmt = 'STD') AND\n",
    "         (fyear BETWEEN 2000 AND 2020)\n",
    "GROUP BY gvkey\n",
    "   LIMIT 10\n"
   ]
  },
  {
   "attachments": {},
   "cell_type": "markdown",
   "metadata": {},
   "source": [
    "# Window functions\n",
    "\n",
    "Sometimes, we want data at the level of the table, but we would also like aggregated measures.\n",
    "SQL has something called **window functions** which aggregate data like we did before, but then they **broadcast** it up to the level of the original table."
   ]
  },
  {
   "cell_type": "code",
   "execution_count": null,
   "metadata": {
    "vscode": {
     "languageId": "sql"
    }
   },
   "outputs": [],
   "source": [
    "%%sql\n",
    "SELECT gvkey, fyear, conm, tic\n",
    "       , cusip AS cusip9\n",
    "       , SUBSTRING(cusip, 1, 8) AS cusip8\n",
    "       , at, lt\n",
    "       , AVG(at) OVER(PARTITION BY gvkey) AS assets_avg\n",
    "       , SUM(ni) OVER(PARTITION BY gvkey) AS netincome_total\n",
    "  FROM comp.funda\n",
    " WHERE (datafmt = 'STD') AND\n",
    "       (fyear BETWEEN 2000 AND 2020)\n",
    " LIMIT 10\n"
   ]
  },
  {
   "attachments": {},
   "cell_type": "markdown",
   "metadata": {},
   "source": [
    "Notice a few things about using window functions:\n",
    "\n",
    "1. We're broadcasting back to the original row level, so there's no need to provide aggregation on the name.\n",
    "2. We removed `GROUP BY`.\n",
    "3. Instead, each aggregation function uses the `OVER()` function (which tells the DBMS that we want a window function), and, inside, it has `PARTITION BY` which serves the purpose of defining how the aggregation is done.\n",
    "\n",
    "Window functions are very useful for a lot of the work we do, and they can easily push work to the server that we might otherwise have to do after retrieving the data."
   ]
  },
  {
   "attachments": {},
   "cell_type": "markdown",
   "metadata": {},
   "source": [
    "# Joining data\n",
    "\n",
    "A `JOIN` is combining one table with another (or multiple others) in order to query combined data.\n",
    "This is a fairly deep topic, though we are going to work through a simple example."
   ]
  },
  {
   "cell_type": "code",
   "execution_count": null,
   "metadata": {
    "vscode": {
     "languageId": "sql"
    }
   },
   "outputs": [],
   "source": [
    "%%sql\n",
    "SELECT f.gvkey, f.fyear, f.conm, f.tic\n",
    "        , f.cusip AS cusip9\n",
    "        , SUBSTRING(f.cusip, 1, 8) AS cusip8\n",
    "        , f.at, f.lt\n",
    "        , AVG(f.at) OVER(PARTITION BY f.gvkey) AS assets_avg\n",
    "        , SUM(f.ni) OVER(PARTITION BY f.gvkey) AS netincome_total\n",
    "        , c.city\n",
    "        , c.state\n",
    "  FROM comp.funda AS f\n",
    "  JOIN comp.company AS c\n",
    "    ON f.gvkey = c.gvkey\n",
    " WHERE (f.datafmt = 'STD') AND\n",
    "        (f.fyear BETWEEN 2000 AND 2020)\n",
    " LIMIT 10\n"
   ]
  },
  {
   "attachments": {},
   "cell_type": "markdown",
   "metadata": {},
   "source": [
    "There are a number of changes here to make the `JOIN` work.\n",
    "\n",
    "1. Notice that we added prefixes to all of the variables in original tables. Without these qualifiers, those column names are ambiguous.\n",
    "1. Otherwise, most things look similar until the `JOIN`.\n",
    "1. The `JOIN` itself has two parts: the `JOIN` specifying the other table we want to join, and the `ON` specifying how to join (or merge) the two. In this case, we are using `f.gvkey` and `c.gvkey`.\n",
    "1. Like we have before, we're using `AS` again, this time to give short names to the tables (to make those prefixes easier to type).\n",
    "\n",
    "Joins are powerful, and they can allow us to push a lot of our prep work onto the server. In addition, with copyrighted data like this, sharing a query with someone else is a way of transmitting exactly (or close to) what you pulled, while letting them rely on their own licensed access to the data."
   ]
  },
  {
   "attachments": {},
   "cell_type": "markdown",
   "metadata": {},
   "source": [
    "# Breakout Exercises (time permitting)\n",
    "\n",
    "If time permits, do the following exercise.\n",
    "\n",
    "## EX1: customize a query\n",
    "\n",
    "Choose one of the queries above, and edit to make two changes:\n",
    "\n",
    "1. Restrict the results to Apple and Microsoft, two firms we've used as examples before. (Hint: the ticker symbols may be helpful)\n",
    "2. Add an additional item of your choice to retrieve an additional column or aggregated variable."
   ]
  },
  {
   "cell_type": "code",
   "execution_count": null,
   "metadata": {
    "vscode": {
     "languageId": "sql"
    }
   },
   "outputs": [],
   "source": [
    "%%sql\n",
    "SELECT 'Replace with your answer to 1-1.' as exercise"
   ]
  }
 ],
 "metadata": {
  "kernelspec": {
   "display_name": "Python 3",
   "language": "python",
   "name": "python3"
  },
  "language_info": {
   "codemirror_mode": {
    "name": "ipython",
    "version": 3
   },
   "file_extension": ".py",
   "mimetype": "text/x-python",
   "name": "python",
   "nbconvert_exporter": "python",
   "pygments_lexer": "ipython3",
   "version": "3.12.2"
  },
  "vscode": {
   "interpreter": {
    "hash": "949777d72b0d2535278d3dc13498b2535136f6dfe0678499012e853ee9abcab1"
   }
  }
 },
 "nbformat": 4,
 "nbformat_minor": 4
}
