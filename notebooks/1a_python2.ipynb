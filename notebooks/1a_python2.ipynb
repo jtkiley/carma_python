{
 "cells": [
  {
   "cell_type": "markdown",
   "id": "7fa6e6da",
   "metadata": {},
   "source": [
    "# Python Basics II\n",
    "\n",
    "In this notebook, we will work with the following:\n",
    "\n",
    "- Functions and methods.\n",
    "- Mutability.\n",
    "- Control structures.\n",
    "- Convenience syntax."
   ]
  },
  {
   "cell_type": "code",
   "execution_count": null,
   "id": "90601a4f",
   "metadata": {},
   "outputs": [],
   "source": [
    "# imports\n",
    "\n",
    "import numpy as np"
   ]
  },
  {
   "cell_type": "markdown",
   "id": "644d7fb5",
   "metadata": {},
   "source": [
    "# Functions and methods\n",
    "\n",
    "Functions are objects that take input and map that input to a particular output for a given input.\n",
    "Methods are functions that are bound to particular classes of objects.\n",
    "\n",
    "Like other basic topics, we're staying at a cursory, familiarization level, but the [documentation](https://docs.python.org/3/tutorial/controlflow.html#defining-functions) has the details."
   ]
  },
  {
   "cell_type": "code",
   "execution_count": null,
   "id": "ebe08c9e",
   "metadata": {},
   "outputs": [],
   "source": [
    "def f_to_c(temp_f):\n",
    "    return (temp_f - 32) * 5 / 9"
   ]
  },
  {
   "cell_type": "markdown",
   "id": "1319259d",
   "metadata": {},
   "source": [
    "There are names for the parts of a function.\n",
    "\n",
    "- **Defining a function.** We use the keyword `def` to define a function.\n",
    "- **Function name.** Following the `def` keyword, we give the function a name. In this example, it is `f_to_c`.\n",
    "- **Parameter(s).** After the name, we have a set of parentheses that contains zero or more parameters. This is how we define what the function expects as input.\n",
    "- **Argument(s).** When we call the function after defining it, the values to pass in to the parameters are called the arguments. You will sometimes hear \"parameters\" and \"arguments\" used interchangeably (including from me; old habits die hard), but they are technically distinct.\n",
    "- **Body.** After the colon, we indent the body of the function, which is one or more lines of code providing the procedure to be executed.\n",
    "- **Return.** We use the `return` keyword to return a value back to where the function was called. This is optional to use, and `None` is returned if a return value is not otherwise provided.\n",
    "\n",
    "Note: Using `def` only defines the function and points the specified name to the function object. The code itself does not run until called."
   ]
  },
  {
   "cell_type": "code",
   "execution_count": null,
   "id": "5a2e5657",
   "metadata": {},
   "outputs": [],
   "source": [
    "print(f\"Freezing:   {f_to_c(32)}\")\n",
    "print(f\"Just right: {f_to_c(72)}\")\n",
    "print(f\"Oklahoma:   {f_to_c(117)}\")"
   ]
  },
  {
   "cell_type": "markdown",
   "id": "3d6ee2c1",
   "metadata": {},
   "source": [
    "Methods are like functions, except that we reference the object, and then tend to operate on the object itself."
   ]
  },
  {
   "cell_type": "code",
   "execution_count": null,
   "id": "24002382",
   "metadata": {},
   "outputs": [],
   "source": [
    "c_string = \"MY CAPS LOCK KEY IS BROKEN, APPARENTLY.\"\n",
    "print(c_string)"
   ]
  },
  {
   "cell_type": "code",
   "execution_count": null,
   "id": "17da20ed",
   "metadata": {},
   "outputs": [],
   "source": [
    "# Using the lower method.\n",
    "c_string.lower()"
   ]
  },
  {
   "cell_type": "code",
   "execution_count": null,
   "id": "8ca49cf9",
   "metadata": {},
   "outputs": [],
   "source": [
    "# Look at the attributes and methods of c_string.\n",
    "dir(c_string)"
   ]
  },
  {
   "cell_type": "code",
   "execution_count": null,
   "id": "af1688a9",
   "metadata": {},
   "outputs": [],
   "source": [
    "# Let's try using .replace() chained with .lower().\n",
    "c_string.lower().replace(\"broken\", \"fixed\")"
   ]
  },
  {
   "cell_type": "markdown",
   "id": "b18d8631",
   "metadata": {},
   "source": [
    "# Mutability\n",
    "\n",
    "As we talked about before, objects can be mutable or immutable.\n",
    "Basic types tend to be immutable, and data structures tend to be mutable.\n",
    "\n",
    "## String example"
   ]
  },
  {
   "cell_type": "code",
   "execution_count": null,
   "id": "266333cd",
   "metadata": {},
   "outputs": [],
   "source": [
    "d_string = \"I am IMMUTABLE!\"\n",
    "d_string.lower()"
   ]
  },
  {
   "cell_type": "code",
   "execution_count": null,
   "id": "eeaef286",
   "metadata": {},
   "outputs": [],
   "source": [
    "# Notice that it did not actually change.\n",
    "d_string"
   ]
  },
  {
   "cell_type": "code",
   "execution_count": null,
   "id": "fdfb0d84",
   "metadata": {},
   "outputs": [],
   "source": [
    "# Because it's immutable, we'd need to assign\n",
    "# the name d_string to the new lowercase object.\n",
    "d_string = d_string.lower()"
   ]
  },
  {
   "cell_type": "code",
   "execution_count": null,
   "id": "3c088e9d",
   "metadata": {},
   "outputs": [],
   "source": [
    "d_string"
   ]
  },
  {
   "cell_type": "markdown",
   "id": "5edfd3f7",
   "metadata": {},
   "source": [
    "## List example"
   ]
  },
  {
   "cell_type": "code",
   "execution_count": null,
   "id": "21267cb1",
   "metadata": {},
   "outputs": [],
   "source": [
    "c_list = [1, 2, 3, 4]\n",
    "d_list = c_list"
   ]
  },
  {
   "cell_type": "code",
   "execution_count": null,
   "id": "ab26ff68",
   "metadata": {},
   "outputs": [],
   "source": [
    "c_list"
   ]
  },
  {
   "cell_type": "code",
   "execution_count": null,
   "id": "cc83c5de",
   "metadata": {},
   "outputs": [],
   "source": [
    "d_list"
   ]
  },
  {
   "cell_type": "code",
   "execution_count": null,
   "id": "8efa5fce",
   "metadata": {},
   "outputs": [],
   "source": [
    "# Appending a new list element.\n",
    "c_list.append(5)"
   ]
  },
  {
   "cell_type": "code",
   "execution_count": null,
   "id": "ce60ef56",
   "metadata": {},
   "outputs": [],
   "source": [
    "# And there it is.\n",
    "c_list"
   ]
  },
  {
   "cell_type": "code",
   "execution_count": null,
   "id": "39c972b1",
   "metadata": {},
   "outputs": [],
   "source": [
    "# But it's here, too. Both names point to the same object.\n",
    "d_list"
   ]
  },
  {
   "cell_type": "code",
   "execution_count": null,
   "id": "2018c00f",
   "metadata": {},
   "outputs": [],
   "source": [
    "c_list is d_list"
   ]
  },
  {
   "cell_type": "code",
   "execution_count": null,
   "id": "e2820119",
   "metadata": {},
   "outputs": [],
   "source": [
    "# If we want to avoid this, we can assign a name to a copy.\n",
    "d_list = c_list.copy()"
   ]
  },
  {
   "cell_type": "code",
   "execution_count": null,
   "id": "e51c36be",
   "metadata": {},
   "outputs": [],
   "source": [
    "c_list.append(6)"
   ]
  },
  {
   "cell_type": "code",
   "execution_count": null,
   "id": "010b4113",
   "metadata": {},
   "outputs": [],
   "source": [
    "c_list"
   ]
  },
  {
   "cell_type": "code",
   "execution_count": null,
   "id": "e634f391",
   "metadata": {},
   "outputs": [],
   "source": [
    "# Notice that they're now pointing to different objects.\n",
    "d_list"
   ]
  },
  {
   "cell_type": "code",
   "execution_count": null,
   "id": "d25a6cf2",
   "metadata": {},
   "outputs": [],
   "source": [
    "c_list is d_list"
   ]
  },
  {
   "cell_type": "markdown",
   "id": "6618251c",
   "metadata": {},
   "source": [
    "# Control structures\n",
    "\n",
    "## If-then\n",
    "\n",
    "The `if` statement allows us to test some condition and then do something if it is true."
   ]
  },
  {
   "cell_type": "code",
   "execution_count": null,
   "id": "3948247e",
   "metadata": {},
   "outputs": [],
   "source": [
    "a = 5"
   ]
  },
  {
   "cell_type": "code",
   "execution_count": null,
   "id": "4b031b45",
   "metadata": {},
   "outputs": [],
   "source": [
    "# Note that this does not print anything.\n",
    "if a > 5:\n",
    "    print(\"a is greater than five.\")"
   ]
  },
  {
   "cell_type": "code",
   "execution_count": null,
   "id": "a3de0256",
   "metadata": {},
   "outputs": [],
   "source": [
    "a > 5"
   ]
  },
  {
   "cell_type": "code",
   "execution_count": null,
   "id": "a622ed86",
   "metadata": {},
   "outputs": [],
   "source": [
    "# We can use an else clause to do something when the condition is False.\n",
    "if a > 5:\n",
    "    print(\"a is greater than five.\")\n",
    "else:\n",
    "    print(\"a is not greater than five\")"
   ]
  },
  {
   "cell_type": "code",
   "execution_count": null,
   "id": "e14133d1",
   "metadata": {},
   "outputs": [],
   "source": [
    "# We can also specify alternative tests using elif.\n",
    "# This is equivalent to having another if statement in the else clause.\n",
    "if a > 5:\n",
    "    print(\"a is greater than five.\")\n",
    "elif a == 5:\n",
    "    print(\"a is exactly five.\")\n",
    "else:\n",
    "    print(\"a is neither greater than nor exactly five\")"
   ]
  },
  {
   "cell_type": "markdown",
   "id": "dd28deff",
   "metadata": {},
   "source": [
    "In the example below, note the indentation of the `print()` function after the if clause.\n",
    "Because it is not indented, it is not part of the block that is executed when the `if` condition is true.\n",
    "\n",
    "In some other programming languages, code blocks like these are identified using braces (`{}`).\n",
    "The Python version looks nicer, but it is important to remember that spacing/indenting is part of the syntax, not just a visual convention."
   ]
  },
  {
   "cell_type": "code",
   "execution_count": null,
   "id": "d7f44db2",
   "metadata": {},
   "outputs": [],
   "source": [
    "if a > 4:\n",
    "    print(\"a is greater than five.\")\n",
    "print(\"This prints either way, because it's not in the if statement's code block.\")"
   ]
  },
  {
   "cell_type": "markdown",
   "id": "9fb2abe0",
   "metadata": {},
   "source": [
    "## While loops\n",
    "\n",
    "While loops continue to do something while a condition is true.\n",
    "A consequence is that we need to provide logic for it to end.\n",
    "We typically use one of two methods: some kind of counter or a `break` statement."
   ]
  },
  {
   "cell_type": "code",
   "execution_count": null,
   "id": "046724b2",
   "metadata": {},
   "outputs": [],
   "source": [
    "b = 1\n",
    "while b < 5:\n",
    "    print(f\"b is {b}\")\n",
    "    b = b + 1"
   ]
  },
  {
   "cell_type": "code",
   "execution_count": null,
   "id": "375bf345",
   "metadata": {},
   "outputs": [],
   "source": [
    "c = 1\n",
    "while True:\n",
    "    print(f\"c is {c}\")\n",
    "    c = c + 1\n",
    "    if c >= 5:\n",
    "        break"
   ]
  },
  {
   "cell_type": "code",
   "execution_count": null,
   "id": "2d0f5a21",
   "metadata": {},
   "outputs": [],
   "source": [
    "while False:\n",
    "    print(\"This is never printed.\")"
   ]
  },
  {
   "cell_type": "markdown",
   "id": "0b2d3f42",
   "metadata": {},
   "source": [
    "## For loops\n",
    "\n",
    "A `for` loop lets us do something for every item in a sequence.\n",
    "If you think about it, you'll notice that anything you can do with a `for` loop can be done with a `while` loop, but the `for` syntax is more convenient.\n",
    "\n",
    "In practice, I use `for` loops (or avoid explicit looping altogether by vectorizing) much more often than `while` loops."
   ]
  },
  {
   "cell_type": "code",
   "execution_count": null,
   "id": "40c0897f",
   "metadata": {},
   "outputs": [],
   "source": [
    "d = [1, 2, 3, 4, 5]"
   ]
  },
  {
   "cell_type": "code",
   "execution_count": null,
   "id": "f30e63e0",
   "metadata": {},
   "outputs": [],
   "source": [
    "for num in d:\n",
    "    print(num + 1)"
   ]
  },
  {
   "cell_type": "code",
   "execution_count": null,
   "id": "2588a753",
   "metadata": {},
   "outputs": [],
   "source": [
    "# We don't have to care about what the sequence is.\n",
    "# This is what's called the \"I don't care\" underscore.\n",
    "for _ in range(1, 5):\n",
    "    print(\"Hi!\")"
   ]
  },
  {
   "cell_type": "code",
   "execution_count": null,
   "id": "7531a7bb",
   "metadata": {},
   "outputs": [],
   "source": [
    "# Note that ranges in Python do not include the end of the range.\n",
    "for i in range(1, 5):\n",
    "    print(i)"
   ]
  },
  {
   "cell_type": "markdown",
   "id": "26bd50b0",
   "metadata": {},
   "source": [
    "# Convenience syntax\n",
    "\n",
    "Python has a number of language conveniences, but I'll share two.\n",
    "\n",
    "A simple one is the `+=` operator.\n",
    "For example, `x += 1` is equivalent to `x = x + 1`, meaning take the value that x points to, add one, and then assign the name x to that new number."
   ]
  },
  {
   "cell_type": "code",
   "execution_count": null,
   "id": "c88fccee",
   "metadata": {},
   "outputs": [],
   "source": [
    "x = 5\n",
    "print(x)\n",
    "x += 1\n",
    "print(x)"
   ]
  },
  {
   "cell_type": "markdown",
   "id": "fcb7f098",
   "metadata": {},
   "source": [
    "One of my favorites is the Python list comprehension (see the [tutorial](https://docs.python.org/3/tutorial/datastructures.html#list-comprehensions)).\n",
    "Consider the following code that transforms every element in a list."
   ]
  },
  {
   "cell_type": "code",
   "execution_count": null,
   "id": "2f1200aa",
   "metadata": {},
   "outputs": [],
   "source": [
    "e_list = [\"THIS\", \"LIST\", \"HAS\", \"ITEMS\", \"IN\", \"CAPS\"]"
   ]
  },
  {
   "cell_type": "code",
   "execution_count": null,
   "id": "d1c3fda3",
   "metadata": {},
   "outputs": [],
   "source": [
    "new_list = []\n",
    "for item in e_list:\n",
    "    lower_item = item.lower()\n",
    "    new_list.append(lower_item)\n",
    "print(new_list)"
   ]
  },
  {
   "cell_type": "markdown",
   "id": "94dce333",
   "metadata": {},
   "source": [
    "It may occur to you that this kind of pattern is something that we may do a lot.\n",
    "It is, and this is an ideal case for some special syntax that makes it easier to accomplish."
   ]
  },
  {
   "cell_type": "code",
   "execution_count": null,
   "id": "26f646af",
   "metadata": {},
   "outputs": [],
   "source": [
    "[item.lower() for item in e_list]"
   ]
  },
  {
   "cell_type": "code",
   "execution_count": null,
   "id": "28272090",
   "metadata": {},
   "outputs": [],
   "source": [
    "e_list"
   ]
  },
  {
   "cell_type": "markdown",
   "id": "8ffec4c1",
   "metadata": {},
   "source": [
    "One of my favorite list comprehension snippets is this:\n",
    "\n",
    "```python\n",
    "df = (pd.concat([pd.read_csv(i, index_col=False) \n",
    "                 for i in glob.glob('dir/*.csv')]\n",
    "               ).reset_index(drop=True))\n",
    "```\n",
    "\n",
    "This code:\n",
    "\n",
    "1. Gets a list of files that match `*.csv` in the directory `dir`.\n",
    "1. For each item in that list (a path to a file), it reads it from the csv format into a pandas dataframe.\n",
    "1. After processing each item, we have a list of pandas dataframes.\n",
    "1. Then, `pd.concat()` concatenates them into a single bigger dataframe.\n",
    "1. Finally, it resets the index column and drops the old index values."
   ]
  },
  {
   "cell_type": "markdown",
   "id": "c6be62dc",
   "metadata": {},
   "source": [
    "# Breakout Exercises\n",
    "\n",
    "Let's do two exercises to reinforce the concepts we learned above.\n",
    "\n",
    "\n",
    "1. functions\n",
    "1. loops"
   ]
  },
  {
   "cell_type": "markdown",
   "id": "f96d9a8d",
   "metadata": {},
   "source": [
    "## EX1: functions\n",
    "\n",
    "Let's make a function to do the temperature calculation in the other direction.\n",
    "\n",
    "1. Create a function named `c_to_f()` that takes a temperature in celsius and returns the temperature in fahrenheit. You may need to google the formula (I did).\n",
    "1. Try your function by converting `100` from C to F."
   ]
  },
  {
   "cell_type": "code",
   "execution_count": null,
   "id": "431c56f8",
   "metadata": {},
   "outputs": [],
   "source": [
    "# 1-1 code"
   ]
  },
  {
   "cell_type": "code",
   "execution_count": null,
   "id": "458c9953",
   "metadata": {},
   "outputs": [],
   "source": [
    "# 1-2 code"
   ]
  },
  {
   "cell_type": "markdown",
   "id": "f265e30d",
   "metadata": {},
   "source": [
    "## EX2: loops\n",
    "\n",
    "Loops let us take a procedure and repeat it.\n",
    "We'll use a `for` loop here to apply a simple computation.\n",
    "\n",
    "1. Create a list, named `x_list`, that contains the integers `1` through `5`.\n",
    "1. Create a new list, named `y_list` where each element is `2` times the corresponding element in `x_list`. Use a `for` loop.\n",
    "1. Create a new list, named `z_list`, that matches what you did for `y_list`, but use a list comprehension to construct it.\n",
    "\n",
    "**Note:** This is the first exercise where some cells will have multiple lines of code, but that will be the norm going forward."
   ]
  },
  {
   "cell_type": "code",
   "execution_count": null,
   "id": "ce5dc5b1",
   "metadata": {},
   "outputs": [],
   "source": [
    "# 2-1 code"
   ]
  },
  {
   "cell_type": "code",
   "execution_count": null,
   "id": "821e80d6",
   "metadata": {},
   "outputs": [],
   "source": [
    "# 2-2 code"
   ]
  },
  {
   "cell_type": "code",
   "execution_count": null,
   "id": "6c5bebce",
   "metadata": {},
   "outputs": [],
   "source": [
    "# 2-3 code"
   ]
  },
  {
   "cell_type": "markdown",
   "id": "fe8835af",
   "metadata": {},
   "source": [
    "# Bonus content\n",
    "\n",
    "## Dynamic typing\n",
    "\n",
    "Python does not require us to specify the types that our functions accept and return.\n",
    "As a result, some things work that we might not expect.\n",
    "For example, if we give our function, `f_to_c()`, a numpy array (basically a vector), it gives us back an array with the calculation.\n",
    "\n",
    "Notice that the function doesn't have any special rules for handling a vector instead of a scalar.\n",
    "This works because the `np.array` object has its own definitions of what addition (or, more precisely, the `+` operator, which uses the `__add__` method on the object) and multiplication mean for that object.\n",
    "Those definitions are used when performing these operations."
   ]
  },
  {
   "cell_type": "code",
   "execution_count": null,
   "id": "32d8404c",
   "metadata": {},
   "outputs": [],
   "source": [
    "a_array = np.array([32, 72, 117])"
   ]
  },
  {
   "cell_type": "code",
   "execution_count": null,
   "id": "c21fd7ef",
   "metadata": {},
   "outputs": [],
   "source": [
    "f_to_c(a_array)"
   ]
  },
  {
   "cell_type": "code",
   "execution_count": null,
   "id": "f2602374",
   "metadata": {},
   "outputs": [],
   "source": [
    "dir(a_array)"
   ]
  }
 ],
 "metadata": {
  "kernelspec": {
   "display_name": "Python 3",
   "language": "python",
   "name": "python3"
  },
  "language_info": {
   "codemirror_mode": {
    "name": "ipython",
    "version": 3
   },
   "file_extension": ".py",
   "mimetype": "text/x-python",
   "name": "python",
   "nbconvert_exporter": "python",
   "pygments_lexer": "ipython3",
   "version": "3.11.3"
  },
  "vscode": {
   "interpreter": {
    "hash": "949777d72b0d2535278d3dc13498b2535136f6dfe0678499012e853ee9abcab1"
   }
  }
 },
 "nbformat": 4,
 "nbformat_minor": 5
}
