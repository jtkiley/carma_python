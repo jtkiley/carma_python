{
 "cells": [
  {
   "cell_type": "markdown",
   "id": "ab56811d",
   "metadata": {
    "tags": []
   },
   "source": [
    "# Visualization\n",
    "\n",
    "In this notebook, we will work with the following:\n",
    "\n",
    "- Generating standard plotly express visualizations.\n",
    "- Adding customization to standard visualizations.\n",
    "- Generating geospatial visualizations."
   ]
  },
  {
   "cell_type": "code",
   "execution_count": null,
   "id": "25c1b73c",
   "metadata": {},
   "outputs": [],
   "source": [
    "import pandas as pd\n",
    "import geopandas\n",
    "import plotly.express as px\n",
    "from plotly.subplots import make_subplots\n",
    "import plotly.graph_objects as go"
   ]
  },
  {
   "cell_type": "code",
   "execution_count": null,
   "id": "8dd1ba4f",
   "metadata": {},
   "outputs": [],
   "source": [
    "pd.set_option(\"mode.copy_on_write\", True)"
   ]
  },
  {
   "cell_type": "markdown",
   "id": "1ba27034",
   "metadata": {},
   "source": [
    "# Standard visualizations\n",
    "\n",
    "As we briefly covered before, `plotly` is a package that provides a wide array of powerful graphing capabilities.\n",
    "\n",
    "One component, `plotly.express`, gives us a straightforward interface to create [high quality visualizations](https://plotly.com/python/plotly-express/) with relatively modest code.\n",
    "Also, as we will see below, we can use these standard visualizations and then customize as needed.\n",
    "\n",
    "While visualization is a deep topic—perhaps big enough for its own course—we can capture a substantial amount of that capability with the easy-to-use `plotly.express` interface."
   ]
  },
  {
   "cell_type": "code",
   "execution_count": null,
   "id": "da0b4cb1",
   "metadata": {},
   "outputs": [],
   "source": [
    "# Visibility data\n",
    "vis = pd.read_csv(\"../data/vis.csv\", index_col=False)\n",
    "vis.head()"
   ]
  },
  {
   "cell_type": "markdown",
   "id": "62b87192",
   "metadata": {},
   "source": [
    "## Histogram\n",
    "\n",
    "Histograms are a good tool for inspecting distributions, and the plotly express histogram function has several parameters that allow us to display histograms in different ways."
   ]
  },
  {
   "cell_type": "code",
   "execution_count": null,
   "id": "28c48f43",
   "metadata": {},
   "outputs": [],
   "source": [
    "# Standard histogram.\n",
    "fig_01 = px.histogram(vis, x=\"vis\")\n",
    "fig_01.show()"
   ]
  },
  {
   "cell_type": "code",
   "execution_count": null,
   "id": "4eed7604",
   "metadata": {},
   "outputs": [],
   "source": [
    "# Using color allows us to see which groups are in which bins.\n",
    "# We can also use the height and width parameters to specify a size.\n",
    "fig_02 = px.histogram(\n",
    "    vis,\n",
    "    x=\"vis\",\n",
    "    color=\"ticker\",\n",
    "    height=600,\n",
    "    width=800,\n",
    ")\n",
    "fig_02.show()"
   ]
  },
  {
   "cell_type": "markdown",
   "id": "03771e65",
   "metadata": {},
   "source": [
    "## Line\n",
    "\n",
    "We know this is time series data, so it may be interesting to plot the values over time and by firm using a line chart.\n",
    "\n",
    "In addition, plotly supports themes—and has several built in—so we can use something that better fits the Jupyter Lab dark theme that I am using."
   ]
  },
  {
   "cell_type": "code",
   "execution_count": null,
   "id": "17a81dad",
   "metadata": {},
   "outputs": [],
   "source": [
    "fig_03 = px.line(\n",
    "    vis,\n",
    "    x=\"year\",\n",
    "    y=\"vis\",\n",
    "    title=\"WSJ Coverage by Firm-year\",\n",
    "    color=\"ticker\",\n",
    "    template=\"plotly_dark\",\n",
    "    width=800,\n",
    "    height=600,\n",
    ")\n",
    "\n",
    "fig_03.show()"
   ]
  },
  {
   "cell_type": "markdown",
   "id": "ce6f87f8",
   "metadata": {},
   "source": [
    "## Scatter matrix\n",
    "\n",
    "A scatter matrix is a plot that combines scatter plots of multiple variable pairs. \n",
    "It's a good way to visually evaluate associations—and the linearity of potential associations—between pairs of variables.\n",
    "\n",
    "The `scatter_matrix()` function will attempt to use all numeric columns in a given dataframe, so we may need to filter down to only the variables of interest.\n",
    "You may also note that, in the example below, the scatter matrix needs multiple columns of values, but our data is in a long, record-like shape.\n",
    "To reshape that, I use the `pivot` method on the `vis` dataframe to separate each firm's values into a separate column.\n",
    "You can read more in the [pandas reshaping documentation](https://pandas.pydata.org/pandas-docs/stable/user_guide/reshaping.html)."
   ]
  },
  {
   "cell_type": "code",
   "execution_count": null,
   "id": "4c88a8e5",
   "metadata": {},
   "outputs": [],
   "source": [
    "fig_04 = px.scatter_matrix(\n",
    "    vis.pivot(index=\"year\", columns=\"ticker\", values=\"vis\"),\n",
    "    height=600,\n",
    "    width=800,\n",
    "    template=\"plotly_dark\",\n",
    ")\n",
    "fig_04.show()"
   ]
  },
  {
   "cell_type": "markdown",
   "id": "b17cf004",
   "metadata": {},
   "source": [
    "## Animation \n",
    "\n",
    "Another way of dealing with data features like a time series is with [animation](https://plotly.com/python/animations/).\n",
    "plotly is significantly more capable than the visualization features we are used to with stats software, and animation is one of the clearest examples.\n"
   ]
  },
  {
   "cell_type": "code",
   "execution_count": null,
   "id": "3971ac5e",
   "metadata": {},
   "outputs": [],
   "source": [
    "fig_05 = px.bar(\n",
    "    vis,\n",
    "    y=\"vis\",\n",
    "    x=\"ticker\",\n",
    "    animation_frame=\"year\",\n",
    "    color=\"ticker\",\n",
    "    range_y=[0, 850],\n",
    "    height=600,\n",
    "    width=800,\n",
    "    template=\"plotly_dark\",\n",
    ")\n",
    "\n",
    "fig_05.show()"
   ]
  },
  {
   "cell_type": "markdown",
   "id": "7280da98",
   "metadata": {},
   "source": [
    "# Customizing visualizations"
   ]
  },
  {
   "cell_type": "markdown",
   "id": "d5e580f6",
   "metadata": {},
   "source": [
    "## Subplots\n",
    "\n",
    "Here, we are using subplots to make a single figure that has multiple nested parts.\n",
    "To do so, we use a bit more syntax, detailed below.\n",
    "\n",
    "1. First, we use `make_subplots()` to create a figure with multiple \"cells.\"\n",
    "2. Next, we add subplots and specify their positions. Note that the general way to add subgraphs and other items to a graph is with `go.add_trace()`. However, because adding subplots in this way is a common operation, plotly includes convenience methods for graphs (e.g., the `add_histogram` method below). Note that the syntax used in the first and second subplots is functionally identical, but the second is more readable and less typing.\n",
    "3. We use the `update_layout` method (which also works with any graph) to set layout parameters for the main figure.\n",
    "4. Finally, we show the figure."
   ]
  },
  {
   "cell_type": "code",
   "execution_count": null,
   "id": "8d25f01f",
   "metadata": {
    "tags": []
   },
   "outputs": [],
   "source": [
    "fig_10 = make_subplots(rows=1, cols=2)\n",
    "\n",
    "fig_10.add_trace(\n",
    "    go.Histogram(x=vis[vis[\"ticker\"] == \"msft\"][\"vis\"], name=\"msft\"),\n",
    "    row=1,\n",
    "    col=1,\n",
    ")\n",
    "\n",
    "fig_10.add_histogram(\n",
    "    x=vis[vis[\"ticker\"] == \"aapl\"][\"vis\"],\n",
    "    row=1,\n",
    "    col=2,\n",
    "    name=\"aapl\",\n",
    ")\n",
    "\n",
    "fig_10.update_layout(\n",
    "    height=600,\n",
    "    width=800,\n",
    "    title_text=\"Side By Side Subplots\",\n",
    "    template=\"plotly_dark\",\n",
    ")\n",
    "fig_10.show()"
   ]
  },
  {
   "cell_type": "code",
   "execution_count": null,
   "id": "2ebea8db",
   "metadata": {},
   "outputs": [],
   "source": [
    "fig_11 = make_subplots(rows=2, cols=1)\n",
    "\n",
    "fig_11.add_scatter(\n",
    "    x=vis[vis[\"ticker\"] == \"msft\"][\"year\"],\n",
    "    y=vis[vis[\"ticker\"] == \"msft\"][\"vis\"],\n",
    "    mode=\"lines\",\n",
    "    row=1,\n",
    "    col=1,\n",
    "    name=\"msft\",\n",
    ")\n",
    "\n",
    "fig_11.add_histogram(\n",
    "    x=vis[vis[\"ticker\"] == \"aapl\"][\"vis\"],\n",
    "    row=2,\n",
    "    col=1,\n",
    "    name=\"aapl\",\n",
    ")\n",
    "\n",
    "fig_11.update_layout(\n",
    "    height=800,\n",
    "    width=800,\n",
    "    title_text=\"Top and Bottom Subplots with Different Types\",\n",
    "    template=\"plotly_dark\",\n",
    ")\n",
    "fig_11.show()"
   ]
  },
  {
   "cell_type": "markdown",
   "id": "5af228a9",
   "metadata": {},
   "source": [
    "As you see above, we can mix and match subplot types and use a different shape for our subplot layout."
   ]
  },
  {
   "cell_type": "markdown",
   "id": "bd0774dc",
   "metadata": {},
   "source": [
    "## Adding items\n",
    "\n",
    "We can also add items more generally.\n",
    "In the example below, we add horizontal lines displaying the average for each firm to our line graph from before.\n",
    "We also add a vertical rectangle shading the financial crisis time period.\n",
    "\n",
    "The plotly [line and rectangle documentation](https://plotly.com/python/horizontal-vertical-shapes/) has more details."
   ]
  },
  {
   "cell_type": "code",
   "execution_count": null,
   "id": "d1d26ce5",
   "metadata": {},
   "outputs": [],
   "source": [
    "fig_12 = px.line(\n",
    "    vis,\n",
    "    x=\"year\",\n",
    "    y=\"vis\",\n",
    "    title=\"WSJ Coverage by Firm-year\",\n",
    "    color=\"ticker\",\n",
    "    template=\"plotly_dark\",\n",
    "    width=800,\n",
    "    height=600,\n",
    ")\n",
    "\n",
    "fig_12.add_hline(\n",
    "    vis[vis[\"ticker\"] == \"aapl\"][\"vis\"].mean(),\n",
    "    annotation_text=\"aapl (mean)\",\n",
    "    line_dash=\"dot\",\n",
    "    line={\"color\": \"blue\"},\n",
    ")\n",
    "\n",
    "fig_12.add_hline(\n",
    "    vis[vis[\"ticker\"] == \"msft\"][\"vis\"].mean(),\n",
    "    annotation_text=\"msft (mean)\",\n",
    "    line_dash=\"dot\",\n",
    "    line={\"color\": \"red\"},\n",
    ")\n",
    "\n",
    "fig_12.add_vrect(\n",
    "    x0=2007.5,\n",
    "    x1=2009.5,\n",
    "    annotation_text=\"Financial<br>Crisis\",\n",
    "    annotation_position=\"top left\",\n",
    "    fillcolor=\"gray\",\n",
    "    opacity=0.25,\n",
    "    line_width=0,\n",
    ")\n",
    "\n",
    "\n",
    "fig_12.show()"
   ]
  },
  {
   "cell_type": "markdown",
   "id": "cc3cc0a9",
   "metadata": {},
   "source": [
    "# Geospatial visualizations\n",
    "\n",
    "One visualization type that we do not often see in our field is geospatial visualizations.\n",
    "Traditionally, these have been relatively complicated and specialized into fields that have historically relied on mapping data.\n",
    "However, over time, geospatial visualizations have spread as a result of more accessible tools to convert location data and produce the visualizations themselves.\n",
    "\n",
    "We will only scratch the surface here, though it is easy to see how location and region influence individual behaviors that aggregate up to the ones our field tends to study.\n",
    "\n",
    "For our example, we have a four-step process.\n",
    "\n",
    "1. Obtain data that can be converted to a location (i.e. latitude and longitude). Here, we're making some from a dictionary.\n",
    "1. Convert the location using an API.\n",
    "1. Extract the coordinates from the point object.\n",
    "1. Plot the figure."
   ]
  },
  {
   "cell_type": "code",
   "execution_count": null,
   "id": "b0f0c40c",
   "metadata": {},
   "outputs": [],
   "source": [
    "hq_list = [\n",
    "    {\n",
    "        \"firm\": \"Apple\",\n",
    "        \"city\": \"Cupertino, CA\",\n",
    "    },\n",
    "    {\n",
    "        \"firm\": \"Microsoft\",\n",
    "        \"city\": \"Redmond, WA\",\n",
    "    },\n",
    "    {\n",
    "        \"firm\": \"Tesla\",\n",
    "        \"city\": \"Palo Alto, CA\",\n",
    "    },\n",
    "    {\n",
    "        \"firm\": \"Netflix\",\n",
    "        \"city\": \"Los Gatos, CA\",\n",
    "    },\n",
    "    {\n",
    "        \"firm\": \"Twitter\",\n",
    "        \"city\": \"San Francisco, CA\",\n",
    "    },\n",
    "    {\n",
    "        \"firm\": \"Amazon\",\n",
    "        \"city\": \"Seattle, WA\",\n",
    "    },\n",
    "]\n",
    "\n",
    "hq = pd.DataFrame(hq_list)\n",
    "hq.head()"
   ]
  },
  {
   "cell_type": "code",
   "execution_count": null,
   "id": "0f62f5c1",
   "metadata": {},
   "outputs": [],
   "source": [
    "# We're using a free geocoding API with fairly strict rate limits.\n",
    "# You'll see errors if you (successfully) request a repeat city\n",
    "# within a few minutes of a prior request.\n",
    "# Also note that this errors out a lot. We often have to retry.\n",
    "hq[\"geometry\"] = geopandas.tools.geocode(hq[\"city\"], provider=\"photon\")[\"geometry\"]"
   ]
  },
  {
   "cell_type": "code",
   "execution_count": null,
   "id": "f5c86d9e",
   "metadata": {},
   "outputs": [],
   "source": [
    "def get_lat(value):\n",
    "    return value.y\n",
    "\n",
    "\n",
    "def get_lon(value):\n",
    "    return value.x\n",
    "\n",
    "\n",
    "hq[\"lat\"] = hq[\"geometry\"].apply(get_lat)\n",
    "hq[\"lon\"] = hq[\"geometry\"].apply(get_lon)"
   ]
  },
  {
   "cell_type": "code",
   "execution_count": null,
   "id": "40a46568",
   "metadata": {},
   "outputs": [],
   "source": [
    "hq.head()"
   ]
  },
  {
   "cell_type": "code",
   "execution_count": null,
   "id": "865f752e",
   "metadata": {},
   "outputs": [],
   "source": [
    "fig_20 = px.scatter_mapbox(\n",
    "    hq,\n",
    "    lat=\"lat\",\n",
    "    lon=\"lon\",\n",
    "    color=\"firm\",\n",
    "    zoom=3.75,\n",
    "    mapbox_style=\"carto-positron\",\n",
    "    width=800,\n",
    "    height=600,\n",
    "    template=\"plotly_dark\",\n",
    "    title=\"Firm Headquarters Locations\",\n",
    ")\n",
    "fig_20.show()"
   ]
  },
  {
   "cell_type": "markdown",
   "id": "7ffd3c1d",
   "metadata": {},
   "source": [
    "# Breakout Exercises\n",
    "\n",
    "Let's do an exercise to reinforce the concepts we learned above.\n"
   ]
  },
  {
   "cell_type": "markdown",
   "id": "7fc8ede0",
   "metadata": {},
   "source": [
    "## EX1: plot employee data\n",
    "\n",
    "Let's make a chart using the firm year data from the prior segment.\n",
    "\n",
    "1. Read your dataset into a pandas dataframe with the name `firmyear`. To find the proper function, you may want to look at the [pandas IO reference](https://pandas.pydata.org/pandas-docs/stable/user_guide/io.html) or the prior segment materials. Also, display the first five rows. (Don't forget to fix the type on the `count_of_employees` variable.)\n",
    "1. Create a bar chart (named `fig_50`) with `count_of_employees` on the y axis, `year` on the x axis, and a bar for each firm in each year.\n",
    "\n",
    "Note: time permitting, try out different template themes that are included in plotly ([see here](https://plotly.com/python/templates/)).\n",
    "\n",
    "Hint: if you have issues with \"a bar for each firm in each year,\" see [this documentation](https://plotly.com/python/bar-charts/#grouped-bar-chart)."
   ]
  },
  {
   "cell_type": "code",
   "execution_count": null,
   "id": "4e746998",
   "metadata": {},
   "outputs": [],
   "source": [
    "# 1-1 code"
   ]
  },
  {
   "cell_type": "code",
   "execution_count": null,
   "id": "d1898991",
   "metadata": {},
   "outputs": [],
   "source": [
    "# 1-2 code"
   ]
  },
  {
   "cell_type": "markdown",
   "id": "446e4a23",
   "metadata": {},
   "source": [
    "# Bonus Content\n",
    "\n",
    "Did you notice that, once we figured out the height, width, and template that we wanted, we ended up reusing those arguments again and again?\n",
    "There is a way to capture those and reuse them.\n",
    "We use a dictionary and [dictionary unpacking](https://docs.python.org/3/tutorial/controlflow.html?highlight=unpack%20dictionary#unpacking-argument-lists).\n",
    "See the example below."
   ]
  },
  {
   "cell_type": "code",
   "execution_count": null,
   "id": "e4691ee5",
   "metadata": {},
   "outputs": [],
   "source": [
    "fig_b03 = px.line(\n",
    "    vis,\n",
    "    x=\"year\",\n",
    "    y=\"vis\",\n",
    "    title=\"WSJ Coverage by Firm-year\",\n",
    "    color=\"ticker\",\n",
    "    template=\"plotly_dark\",\n",
    "    width=800,\n",
    "    height=600,\n",
    ")\n",
    "\n",
    "fig_b03.show()"
   ]
  },
  {
   "cell_type": "code",
   "execution_count": null,
   "id": "943969b5",
   "metadata": {},
   "outputs": [],
   "source": [
    "GRAPH_FORMAT = {\"template\": \"plotly_dark\", \"width\": 800, \"height\": 600}\n",
    "\n",
    "fig_b03a = px.line(\n",
    "    vis,\n",
    "    x=\"year\",\n",
    "    y=\"vis\",\n",
    "    title=\"WSJ Coverage by Firm-year\",\n",
    "    color=\"ticker\",\n",
    "    **GRAPH_FORMAT,\n",
    ")\n",
    "\n",
    "fig_b03a.show()"
   ]
  },
  {
   "cell_type": "markdown",
   "id": "dda87ced",
   "metadata": {},
   "source": [
    "A key benefit of extracting our favorite formatiing options this way is that we can change all of our graphs by making a single change to a single dictionary."
   ]
  }
 ],
 "metadata": {
  "execution": {
   "allow_errors": true,
   "timeout": 300
  },
  "kernelspec": {
   "display_name": "Python 3",
   "language": "python",
   "name": "python3"
  },
  "language_info": {
   "codemirror_mode": {
    "name": "ipython",
    "version": 3
   },
   "file_extension": ".py",
   "mimetype": "text/x-python",
   "name": "python",
   "nbconvert_exporter": "python",
   "pygments_lexer": "ipython3",
   "version": "3.11.4"
  },
  "vscode": {
   "interpreter": {
    "hash": "949777d72b0d2535278d3dc13498b2535136f6dfe0678499012e853ee9abcab1"
   }
  }
 },
 "nbformat": 4,
 "nbformat_minor": 5
}
