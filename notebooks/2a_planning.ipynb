{
 "cells": [
  {
   "attachments": {},
   "cell_type": "markdown",
   "id": "35843237",
   "metadata": {},
   "source": [
    "# Planning\n",
    "\n",
    "In this notebook, we will work with the following skills that assist in planning:\n",
    "\n",
    "1. Identifier transformation \n",
    "1. Identifier coding\n",
    "1. Data mockups"
   ]
  },
  {
   "cell_type": "code",
   "execution_count": null,
   "id": "89b80464",
   "metadata": {},
   "outputs": [],
   "source": [
    "import pandas as pd"
   ]
  },
  {
   "cell_type": "code",
   "execution_count": null,
   "id": "7d6eed7d",
   "metadata": {},
   "outputs": [],
   "source": [
    "pd.set_option(\"mode.copy_on_write\", True)"
   ]
  },
  {
   "attachments": {},
   "cell_type": "markdown",
   "id": "8eef034a",
   "metadata": {},
   "source": [
    "# Identifier transformation\n",
    "\n",
    "As we discussed before, a key planning issue is ensuring that we have a strategy for having identifiers across our component datasets that allow for merging and other transformations that we need.\n",
    "For many of our archival datasets, we typically have one or more identifiers, and we often need to transform or cross reference those.\n",
    "We can think of this as the easiest case: identifiers are built in, even if they have some nuances for us to navigate.\n",
    "\n",
    "**Note:** We're using macro research identifiers as examples here, but identifier planning matters generally across levels and research designs."
   ]
  },
  {
   "attachments": {},
   "cell_type": "markdown",
   "id": "cc98ae35",
   "metadata": {},
   "source": [
    "## CUSIP\n",
    "\n",
    "CUSIP is an identifier used in the securities industry, and it's used in multiple databases, including [Compustat](http://office.banker.thomsonib.com/ta/help/glossaryhelp/CompustatGlossaryC.htm#CUSIP). It has multiple forms and components, detailed below:\n",
    "\n",
    "component | format | notes\n",
    "-----|-----------|---------------\n",
    "Issuer code|six character string|Issuer (firm) level identifier.\n",
    "Issue number|two character string|Issue (e.g., stock class, bond issue) level identifier.\n",
    "Check digit|one character string|Basically a checksum digit, an old data integrity technique.\n",
    "\n",
    "In archival databases, a six-digit CUSIP is the issuer code, an eight-digit CUSIP contains the issuer code and issue number, and the nine-digit CUSIP includes all three components.\n",
    "Because these individual parts are in the same positions, we can convert any CUSIP variant down to a shorter one.\n",
    "In addition, because the common stock of a firm typically gets the issue code `10`, we can upconvert six-digit CUSIPs to eight-digit CUSIPs, if we are willing to accept some missing identifiers (an important qualification)."
   ]
  },
  {
   "cell_type": "code",
   "execution_count": null,
   "id": "52c360f5",
   "metadata": {},
   "outputs": [],
   "source": [
    "# CUSIP Examples\n",
    "cusips = pd.DataFrame(\n",
    "    [\n",
    "        {\"name\": \"Apple\", \"cusip\": \"037833100\"},\n",
    "        {\"name\": \"Microsoft\", \"cusip\": \"594918104\"},\n",
    "        {\"name\": \"Berkshire Hathaway\", \"cusip\": \"084670702\"},\n",
    "    ]\n",
    ")\n",
    "\n",
    "cusips.head()"
   ]
  },
  {
   "cell_type": "code",
   "execution_count": null,
   "id": "3c29dac9",
   "metadata": {},
   "outputs": [],
   "source": [
    "for v in [6, 8, 9]:\n",
    "    cusips[\"id_cusip\" + str(v)] = cusips[\"cusip\"].str.slice(0, v)"
   ]
  },
  {
   "cell_type": "code",
   "execution_count": null,
   "id": "fb953fe4",
   "metadata": {},
   "outputs": [],
   "source": [
    "cusips.head()"
   ]
  },
  {
   "attachments": {},
   "cell_type": "markdown",
   "id": "cc45b209",
   "metadata": {},
   "source": [
    "Notice that Berkshire Hathaway has an issue number of `70`, not `10`.\n",
    "This is a case where a firm has multiple share classes, and one other than `10` is the most numerous (the Compustat criterion for choosing an issue to use as a firm identifier)."
   ]
  },
  {
   "attachments": {},
   "cell_type": "markdown",
   "id": "a8436985",
   "metadata": {},
   "source": [
    "## GVKEY\n",
    "\n",
    "GVKEY is Compustat's primary identifier.\n",
    "It's a six character identifier, which is largely an integer, but the leading zeros are included in some datasets.\n",
    "Filling with leading zeros is a transformation we sometimes need to do to facilitate merging later."
   ]
  },
  {
   "cell_type": "code",
   "execution_count": null,
   "id": "16194c79",
   "metadata": {},
   "outputs": [],
   "source": [
    "gvkeys = pd.DataFrame(\n",
    "    [\n",
    "        {\"name\": \"Apple\", \"gvkey\": \"1690\"},\n",
    "        {\"name\": \"Microsoft\", \"gvkey\": \"12141\"},\n",
    "        {\"name\": \"Berkshire Hathaway\", \"gvkey\": \"2176\"},\n",
    "    ]\n",
    ")\n",
    "\n",
    "gvkeys.head()"
   ]
  },
  {
   "cell_type": "code",
   "execution_count": null,
   "id": "3708f2cd",
   "metadata": {},
   "outputs": [],
   "source": [
    "gvkeys[\"gvkey\"] = gvkeys[\"gvkey\"].str.zfill(6)\n",
    "gvkeys.head()"
   ]
  },
  {
   "attachments": {},
   "cell_type": "markdown",
   "id": "5b78d0a3",
   "metadata": {},
   "source": [
    "## Converting identifiers\n",
    "\n",
    "For these identifiers and others (e.g., PERMNO, PERMCO, CIK), WRDS has [linked data](https://wrds-www.wharton.upenn.edu/pages/support/data-overview/wrds-overview-crspcompustat-merged-ccm/) for converting identifiers."
   ]
  },
  {
   "attachments": {},
   "cell_type": "markdown",
   "id": "ea3914c6",
   "metadata": {},
   "source": [
    "# Identifier coding\n",
    "\n",
    "At times, we encounter datasets or entire projects with no coordinated identifers across the data.\n",
    "With no identifier throughout the project, the solution is relatively simple: take your base-level data (i.e. the data at the intended final data level), assign identifiers to each row (I suggest integers starting with `1`), and use those identifiers throughout.\n",
    "\n",
    "At other times, we need to code identifiers in order to match up with our other data.\n",
    "This is the case we focus on below.\n",
    "\n",
    "In the example data below, we would like to code a firm-level identifier."
   ]
  },
  {
   "cell_type": "code",
   "execution_count": null,
   "id": "2a0a5371",
   "metadata": {},
   "outputs": [],
   "source": [
    "coding = pd.DataFrame(\n",
    "    [\n",
    "        {\"name\": \"Apple\", \"year\": \"2018\"},\n",
    "        {\"name\": \"Apple\", \"year\": \"2019\"},\n",
    "        {\"name\": \"Apple\", \"year\": \"2020\"},\n",
    "        {\"name\": \"Microsoft\", \"year\": \"2018\"},\n",
    "        {\"name\": \"Microsoft\", \"year\": \"2019\"},\n",
    "        {\"name\": \"Microsoft\", \"year\": \"2020\"},\n",
    "        {\"name\": \"Berkshire Hathaway\", \"year\": \"2018\"},\n",
    "        {\"name\": \"Berkshire Hathaway\", \"year\": \"2019\"},\n",
    "        {\"name\": \"Berkshire Hathaway\", \"year\": \"2020\"},\n",
    "    ]\n",
    ")\n",
    "\n",
    "coding.head(10)"
   ]
  },
  {
   "attachments": {},
   "cell_type": "markdown",
   "id": "ab331239",
   "metadata": {},
   "source": [
    "The first thing to notice about this data is that each firm appears multiple times.\n",
    "In practical data parlance, this column has relatively low **cardinality** (i.e. the uniqueness of the items in the column compared to its length).\n",
    "When coding something durable like identifiers, we like to see this, because we will only need to look up each value once."
   ]
  },
  {
   "cell_type": "code",
   "execution_count": null,
   "id": "88435e95",
   "metadata": {},
   "outputs": [],
   "source": [
    "# We can get unique values of a column with the unique method.\n",
    "coding[\"name\"].unique()"
   ]
  },
  {
   "cell_type": "code",
   "execution_count": null,
   "id": "c3f65ccd",
   "metadata": {},
   "outputs": [],
   "source": [
    "# We can make a new dataframe with those unique values.\n",
    "code_table = pd.DataFrame(coding[\"name\"].unique())\n",
    "code_table = code_table.rename(columns={0: \"name\"})\n",
    "code_table.head()"
   ]
  },
  {
   "cell_type": "code",
   "execution_count": null,
   "id": "3ae74b0d",
   "metadata": {},
   "outputs": [],
   "source": [
    "# Then, we can populate new columns for use in coding.\n",
    "for new_col in [\"gvkey\", \"source\", \"coder\", \"flag\", \"notes\"]:\n",
    "    code_table[new_col] = \"\"\n",
    "code_table.head()"
   ]
  },
  {
   "attachments": {},
   "cell_type": "markdown",
   "id": "e2c8c18f",
   "metadata": {},
   "source": [
    "We can then write this as a CSV, code it, read it back in, and use it to add identifiers to this dataframe.\n",
    "We'll talk more about the mechanics of this kind of cosing in human coding data retrieval segment."
   ]
  },
  {
   "attachments": {},
   "cell_type": "markdown",
   "id": "4c31cd04",
   "metadata": {},
   "source": [
    "# Data mockups\n",
    "\n",
    "At the planning and pilot study stage, we may have a complex and labor-intensive data collection yet to do.\n",
    "As a result, we will not have some of the data that we need in order to make sure that we can fit everything together.\n",
    "\n",
    "A data mockup is a form of data that we create—often manually—to simulate the form of the data that we will retrieve in a subsequent collection.\n",
    "This is common for data obtained by web scraping, human coding, or other time-intensive processes.\n",
    "Before starting such a collection, we need to know that it will produce the data that we need.\n",
    "If we are designing the collection ourselves, it may serve as a target for the form of data produced.\n",
    "\n",
    "My favorite tool for producing data mockups is a manually-created CSV file.\n",
    "Unlike Excel spreadsheets (with a lot of internal complexity and sometimes well-intended but harmful automatic behavior), a CSV file is what the name describes: comma-separated values.\n",
    "To make one manually, we simply type (or, more likely, copy and paste) into a file in a text editor."
   ]
  },
  {
   "attachments": {},
   "cell_type": "markdown",
   "id": "dced49a1",
   "metadata": {},
   "source": [
    "## CSV example\n",
    "\n",
    "The contents of a CSV file look like this:\n",
    "\n",
    "```csv\n",
    "price,tic,yr\n",
    "86.13,msft,2018\n",
    "62.79,msft,2017\n",
    "54.32,msft,2016\n",
    "\n",
    "```\n",
    "\n",
    "Also, though it's beyond the scope of the course, using regular expressions in VS Code find/replace can often format raw data quickly into a CSV format. "
   ]
  },
  {
   "attachments": {},
   "cell_type": "markdown",
   "id": "6c2fd83a",
   "metadata": {},
   "source": [
    "# Q&A: Planning\n",
    "\n",
    "At the end, we will chat as one big group about issues that you foresee in your own planning."
   ]
  }
 ],
 "metadata": {
  "kernelspec": {
   "display_name": "Python 3",
   "language": "python",
   "name": "python3"
  },
  "language_info": {
   "codemirror_mode": {
    "name": "ipython",
    "version": 3
   },
   "file_extension": ".py",
   "mimetype": "text/x-python",
   "name": "python",
   "nbconvert_exporter": "python",
   "pygments_lexer": "ipython3",
   "version": "3.11.3"
  },
  "vscode": {
   "interpreter": {
    "hash": "949777d72b0d2535278d3dc13498b2535136f6dfe0678499012e853ee9abcab1"
   }
  }
 },
 "nbformat": 4,
 "nbformat_minor": 5
}
