{
 "cells": [
  {
   "cell_type": "markdown",
   "metadata": {
    "tags": []
   },
   "source": [
    "# Data Retrieval II\n",
    "\n",
    "In this notebook, we will work with the following:\n",
    "\n",
    "- API access.\n",
    "    - NYTimes API.\n",
    "    - FRED API.\n",
    "- Commercial databases.\n",
    "- SQL."
   ]
  },
  {
   "cell_type": "code",
   "execution_count": null,
   "metadata": {},
   "outputs": [],
   "source": [
    "import datetime\n",
    "import os\n",
    "\n",
    "import plotly.express as px\n",
    "import pandas as pd\n",
    "import pyfredapi as pf\n",
    "from pynytimes import NYTAPI"
   ]
  },
  {
   "cell_type": "code",
   "execution_count": null,
   "metadata": {},
   "outputs": [],
   "source": [
    "pd.set_option(\"mode.copy_on_write\", True)"
   ]
  },
  {
   "cell_type": "markdown",
   "metadata": {},
   "source": [
    "# APIs\n",
    "\n",
    "As we're about to see, it's really nice when sites help us out.\n",
    "\n",
    "We'll be using the New York Times API, and you'll need a key to use it. You can get one [here](https://developer.nytimes.com/accounts/create).\n",
    "Once you sign up for an account, do the following:\n",
    "\n",
    "1. Sign in to their [developer site](https://developer.nytimes.com) with your new account.\n",
    "1. In the upper right, click on your user id (it's the email address you signed up with).\n",
    "1. Then, in the popover, click \"Apps\".\n",
    "1. On the resulting page, click the \"New App\" button.\n",
    "1. I used the following info:\n",
    "    - App name: workshop-example\n",
    "    - Description: Text analysis workshop API example\n",
    "1. Click the \"Enable\" button to turn on the \"Article Search API\".\n",
    "1. Click \"Save\" in the bottom right of the page.\n",
    "1. On your app page, click the \"Copy API Key\" button to the right of your API key.\n",
    "1. Paste the API key into the string below."
   ]
  },
  {
   "cell_type": "code",
   "execution_count": null,
   "metadata": {},
   "outputs": [],
   "source": [
    "nyt_api = NYTAPI(os.environ[\"API_NYT\"])\n",
    "\n",
    "msft_articles = nyt_api.article_search(\n",
    "    query=\"Microsoft\", dates={\"begin\": datetime.datetime(2018, 8, 1)}, results=20\n",
    ")"
   ]
  },
  {
   "cell_type": "code",
   "execution_count": null,
   "metadata": {},
   "outputs": [],
   "source": [
    "msft_nyt = pd.DataFrame(msft_articles)\n",
    "msft_nyt.head()"
   ]
  },
  {
   "cell_type": "code",
   "execution_count": null,
   "metadata": {},
   "outputs": [],
   "source": [
    "# While we're at it, let's add Microsoft's ticker.\n",
    "# We'd usually add an identifier when getting query results.\n",
    "msft_nyt[\"id_ticker\"] = \"msft\""
   ]
  },
  {
   "cell_type": "code",
   "execution_count": null,
   "metadata": {},
   "outputs": [],
   "source": [
    "# We should also clean up the publication date.\n",
    "type(msft_nyt[\"pub_date\"][0])"
   ]
  },
  {
   "cell_type": "code",
   "execution_count": null,
   "metadata": {},
   "outputs": [],
   "source": [
    "msft_nyt[\"pub_date\"] = pd.to_datetime(msft_nyt[\"pub_date\"])\n",
    "type(msft_nyt[\"pub_date\"][0])"
   ]
  },
  {
   "cell_type": "markdown",
   "metadata": {},
   "source": [
    "This is only one example, and there are a lot of APIs out there.\n",
    "Many of them have packages, official or unofficial, that will make access easy."
   ]
  },
  {
   "cell_type": "markdown",
   "metadata": {},
   "source": [
    "# FRED\n",
    "\n",
    "Another API example is FRED, the Federal Reserve Economic Data system.\n",
    "It's a fairly typical API in that you register for a key, and then you can access the data.\n",
    "\n",
    "Let's try a less-guided example of obtaining your API key.\n",
    "\n",
    "- [FRED API key](https://fred.stlouisfed.org/docs/api/api_key.html)\n",
    "- [pyfredapi documentation](https://pyfredapi.readthedocs.io/en/latest/)\n",
    "\n",
    "Below, we have a simple example of getting the 10-year US Treasury bond yield at monthly resolution from FRED."
   ]
  },
  {
   "cell_type": "code",
   "execution_count": null,
   "metadata": {},
   "outputs": [],
   "source": [
    "fred_gs10 = pf.get_series(\"GS10\")\n",
    "fred_gs10.head()"
   ]
  },
  {
   "cell_type": "code",
   "execution_count": null,
   "metadata": {},
   "outputs": [],
   "source": [
    "px.line(\n",
    "    fred_gs10[fred_gs10[\"date\"] >= pd.to_datetime(\"2012-01-01\")],\n",
    "    x=\"date\",\n",
    "    y=\"value\",\n",
    "    template=\"plotly_dark\",\n",
    ").show()"
   ]
  },
  {
   "cell_type": "code",
   "execution_count": null,
   "metadata": {},
   "outputs": [],
   "source": [
    "len(fred_gs10[fred_gs10[\"date\"] >= pd.to_datetime(\"2012-01-01\")])"
   ]
  },
  {
   "cell_type": "markdown",
   "metadata": {},
   "source": [
    "# Commercial databases\n",
    "\n",
    "This is a more difficult topic to cover in a hands-on workshop (especially one with  openly-distributed materials) because of copyright.\n",
    "They tend to sort out into a couple of types:\n",
    "\n",
    "1. Those that come in tabular formats and simply require cleaning.\n",
    "2. Others (like LexisNexis and Factiva) that come in semi-structured form and require extensive parsing. \n",
    "\n",
    "For the second type, it's best to either recruit one of the few coauthors with this skillset (and perhaps even a written or partially written implementation) or hiring a programmer or student who can write one.\n",
    "It's worth noting that it's not all that hard to get a reasonable implementation written, but going from 90 percent parsing accuracy to 99 percent to 99.9+ percent is difficult, painstaking work.\n",
    "\n",
    "With that in mind, feel free to ask questions about this topic during the workshop.\n",
    "If time permits, I'll demonstrate some non-sharable stuff."
   ]
  },
  {
   "cell_type": "markdown",
   "metadata": {},
   "source": [
    "# SQL\n",
    "\n",
    "For some data sources, it is helpful to use Structured Query Language (\"SQL\") to query a database.\n",
    "The Wharton Management Data Service (\"WRDS\") has a [Python package](https://github.com/wharton/wrds) that makes it easy to pass queries to their servers and get back a pandas dataframe.\n",
    "We will work with this in a later segment."
   ]
  },
  {
   "cell_type": "markdown",
   "metadata": {},
   "source": [
    "# Breakout Exercises (time permitting)\n",
    "\n",
    "If time permits, choose one of the following as a group.\n",
    "\n",
    "1. Experiment with other searches with the NY Times API by adapting the code above. You may want to create new cells below."
   ]
  }
 ],
 "metadata": {
  "kernelspec": {
   "display_name": "Python 3",
   "language": "python",
   "name": "python3"
  },
  "language_info": {
   "codemirror_mode": {
    "name": "ipython",
    "version": 3
   },
   "file_extension": ".py",
   "mimetype": "text/x-python",
   "name": "python",
   "nbconvert_exporter": "python",
   "pygments_lexer": "ipython3",
   "version": "3.12.2"
  },
  "vscode": {
   "interpreter": {
    "hash": "949777d72b0d2535278d3dc13498b2535136f6dfe0678499012e853ee9abcab1"
   }
  }
 },
 "nbformat": 4,
 "nbformat_minor": 4
}
