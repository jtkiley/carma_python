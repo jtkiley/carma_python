{
 "cells": [
  {
   "attachments": {},
   "cell_type": "markdown",
   "id": "37f3310c",
   "metadata": {},
   "source": [
    "# Jupyter Notebooks\n",
    "\n",
    "In this notebook, we will work with the following:\n",
    "\n",
    "- Importing packages and namespaces.\n",
    "- Using alternative interfaces to Python.\n",
    "- Doing cool things with Jupyter.\n",
    "- Seeing some examples of visualization.\n",
    "- Considering some challenges of Jupyter."
   ]
  },
  {
   "attachments": {},
   "cell_type": "markdown",
   "id": "acdd5292",
   "metadata": {},
   "source": [
    "## Importing packages\n",
    "\n",
    "By convention, imports go at the top of a Python script or notebook (see [PEP 8](https://www.python.org/dev/peps/pep-0008/#imports)). In relevant part:\n",
    "\n",
    ">Imports are always put at the top of the file, just after any module comments and docstrings, and before module globals and constants.\n",
    "\n",
    ">Imports should be grouped in the following order:\n",
    "\n",
    ">    - Standard library imports.\n",
    ">    - Related third party imports.\n",
    ">    - Local application/library specific imports.\n",
    "\n",
    ">You should put a blank line between each group of imports."
   ]
  },
  {
   "cell_type": "code",
   "execution_count": null,
   "id": "0ebd22e3",
   "metadata": {},
   "outputs": [],
   "source": [
    "# standard library\n",
    "import sys\n",
    "import time\n",
    "\n",
    "# third party\n",
    "import numpy as np\n",
    "import pandas as pd\n",
    "import plotly.express as px\n",
    "from textblob import TextBlob"
   ]
  },
  {
   "cell_type": "code",
   "execution_count": null,
   "id": "da0b4ff5",
   "metadata": {},
   "outputs": [],
   "source": [
    "pd.set_option(\"mode.copy_on_write\", True)"
   ]
  },
  {
   "attachments": {},
   "cell_type": "markdown",
   "id": "97cc74e9",
   "metadata": {},
   "source": [
    "Note a few things in the block above.\n",
    "\n",
    "1. The `import sys` is the simplest version.\n",
    "1. For some things we use a lot (and also by convention), we would like to abbreviate the names of some packages. For example, `pandas` is often imported as `pd`, both because it is used often and also by convention (see [pandas documentation](https://pandas.pydata.org/pandas-docs/stable/dsintro.html)).\n",
    "1. We can also import particular things from a package, like the class `TextBlob` from the package `textblob`.\n",
    "1. The lines that start with `#` are comments. Those lines are not executed by Python, and they are useful for us to make notes about what we are doing.\n",
    "\n",
    "\n",
    "Let's see how these work in action."
   ]
  },
  {
   "cell_type": "code",
   "execution_count": null,
   "id": "71a97910",
   "metadata": {},
   "outputs": [],
   "source": [
    "print(sys.executable)"
   ]
  },
  {
   "attachments": {},
   "cell_type": "markdown",
   "id": "af363b5a",
   "metadata": {},
   "source": [
    "Note that to find the contents of this attribute `executable` within the `sys` package, we have to use the package namespace `sys`. Most about namespaces below."
   ]
  },
  {
   "attachments": {},
   "cell_type": "markdown",
   "id": "3d7c60cf",
   "metadata": {},
   "source": [
    "## Namespaces\n",
    "\n",
    "Somewhat abstactly, the [python docs](https://docs.python.org/3.7/tutorial/classes.html#python-scopes-and-namespaces) define a namespace as follows.\n",
    "\n",
    "> A namespace is a mapping from names to objects.\n",
    "\n",
    "For our purposes, we can think of them as paths to get to tools of interest. This topic goes (much) deeper, but a more instrumental understanding is fine for our use.\n",
    "\n",
    "If we want to know what is contained in a namespace, we can easily find out with the `dir()` built-in function."
   ]
  },
  {
   "cell_type": "code",
   "execution_count": null,
   "id": "a14f2e5c",
   "metadata": {},
   "outputs": [],
   "source": [
    "dir(sys)"
   ]
  },
  {
   "attachments": {},
   "cell_type": "markdown",
   "id": "0e43472e",
   "metadata": {},
   "source": [
    "While we might think of namespaces as synonymous with packages, it's more general than that.\n",
    "Individual objects have their own namespaces, like the `TextBlob` class we imported earlier."
   ]
  },
  {
   "cell_type": "code",
   "execution_count": null,
   "id": "9bad40dd",
   "metadata": {},
   "outputs": [],
   "source": [
    "dir(TextBlob)"
   ]
  },
  {
   "attachments": {},
   "cell_type": "markdown",
   "id": "9e129e4a",
   "metadata": {},
   "source": [
    "We can also look at what is in the global namespace."
   ]
  },
  {
   "cell_type": "code",
   "execution_count": null,
   "id": "bc7123e9",
   "metadata": {},
   "outputs": [],
   "source": [
    "dir()"
   ]
  },
  {
   "attachments": {},
   "cell_type": "markdown",
   "id": "82a9c4b0",
   "metadata": {},
   "source": [
    "Note that we see the `sys` and `pd` packages that we imported, and we also see the `TextBlob` class that we imported from its package."
   ]
  },
  {
   "attachments": {},
   "cell_type": "markdown",
   "id": "a415be92",
   "metadata": {},
   "source": [
    "## import this\n",
    "\n",
    "A fun import is The Zen of Python philosophy, which can be accessed by importing `this`. \n",
    "Note that I'm slightly breaking the rules above for the purposes of illustration."
   ]
  },
  {
   "cell_type": "code",
   "execution_count": null,
   "id": "c1440cd9",
   "metadata": {},
   "outputs": [],
   "source": [
    "import this  # noqa: E402, F401"
   ]
  },
  {
   "attachments": {},
   "cell_type": "markdown",
   "id": "6d80c059",
   "metadata": {},
   "source": [
    "# Alternative interfaces for Python.\n",
    "\n",
    "As we'll talk about later, Jupyter notebooks are a great interface for working with Python (or R or a number of other kernels).\n",
    "However, they are not the only game in town.\n",
    "\n",
    "1. **Python interpreter.** We can access the Python interpreter from the terminal.\n",
    "2. **Running a script from the terminal.** We can also make our own script and run it from the terminal."
   ]
  },
  {
   "attachments": {},
   "cell_type": "markdown",
   "id": "cf76a451",
   "metadata": {},
   "source": [
    "# Jupyter\n",
    "\n",
    "The Jupyter lab interface and notebooks provide a number of conveniences for research.\n",
    "\n",
    "- Jupyter Lab: text editor, terminal, window layouts.\n",
    "- Rich text: bold, italic, headings.\n",
    "- Bullets, lists, and code (non-executing).\n",
    "- Links, images, and equations.\n",
    "- Display of graphics.\n",
    "- Convenience items with cell magics."
   ]
  },
  {
   "attachments": {},
   "cell_type": "markdown",
   "id": "fb0d5c20",
   "metadata": {},
   "source": [
    "## Rich text\n",
    "\n",
    "Jupyter uses the simple [markdown](https://daringfireball.net/projects/markdown/) syntax for formatting text. There are some extensions and differences from original markdown, so you may find the [Jupyter Notebooks docs](https://jupyter-notebook.readthedocs.io/en/stable/examples/Notebook/Working%20With%20Markdown%20Cells.html) to be a better reference.\n",
    "\n",
    "- **Bold** a word by enclosing it in pairs of asterisks: `**Bold**`.\n",
    "- *Italicize* a word by enclosing it in single asterisks: `*Italicise*`.\n",
    "- ***Do both*** with three asterisks: `***Do both***`.\n",
    "- We can also use headings by starting the line with one or more pound signs, where one is a top-level heading: `#`.\n",
    "\n",
    "# First heading\n",
    "## Second heading\n",
    "### Third heading\n",
    "\n",
    "```\n",
    "# First heading\n",
    "## Second heading\n",
    "### Third heading\n",
    "```"
   ]
  },
  {
   "attachments": {},
   "cell_type": "markdown",
   "id": "f1197591",
   "metadata": {},
   "source": [
    "## Bullets and lists\n",
    "\n",
    "- Bullets can be made by beginning a line with a hyphen and a space: ` - Bullets. . .`.\n",
    "\n",
    "Numbered lists start with a number, period, and a space:\n",
    "\n",
    "1. First\n",
    "1. Second\n",
    "1. Third\n",
    "\n",
    "Note that they all start with `1. `, and markdown handles numbering for us. \n",
    "We could, of course, number them ourselves.\n",
    "\n",
    "```\n",
    "1. First\n",
    "1. Second\n",
    "1. Third\n",
    "```\n",
    "\n",
    "We can also nest lists and types by indenting:\n",
    "\n",
    "- Bullet\n",
    "    1. Nested list item\n",
    "    1. Another one\n",
    "- Another bullet\n",
    "    1. More lists\n",
    "        - More bullets\n",
    "        \n",
    "```\n",
    "- Bullet\n",
    "    1. Nested list item\n",
    "    1. Another one\n",
    "- Another bullet\n",
    "    1. More lists\n",
    "        - More bullets\n",
    "```"
   ]
  },
  {
   "attachments": {},
   "cell_type": "markdown",
   "id": "0ac2ebf7",
   "metadata": {},
   "source": [
    "## Code\n",
    "\n",
    "We can reference code in two ways.\n",
    "First, we can use inline code like `import this` by using backticks `` ` `` to enclode the code: `` `import this` ``.\n",
    "Second, we can make code blocks by using beginning and ending lines with three backticks: ```` ``` ````.\n",
    "Do note that I'm having to be tricky to display backticks inside of code.\n",
    "\n",
    "```\n",
    "def f_to_c(temp_f):\n",
    "    return (temp_f - 32) * 5/9\n",
    "```\n",
    "\n",
    "We can make it a little nicer (with syntax highlighting) by adding the code type to the first line: ```` ```python ````.\n",
    "\n",
    "```python\n",
    "def f_to_c(temp_f):\n",
    "    return (temp_f - 32) * 5/9\n",
    "```"
   ]
  },
  {
   "attachments": {},
   "cell_type": "markdown",
   "id": "4f5fc7ca",
   "metadata": {},
   "source": [
    "## Links and images.\n",
    "\n",
    "We can add links, like one to my [github page](https://github.com/jtkiley), using the text in brackets followed by the link in parentheses: `[github page](https://github.com/jtkiley)`.\n",
    "\n",
    "We can add images by using similar syntax to point to an image: `![alt text](../_img/pandas_logo.svg)`.\n",
    "\n",
    "![alt text](../_img/pandas_logo.svg)"
   ]
  },
  {
   "attachments": {},
   "cell_type": "markdown",
   "id": "f1611000",
   "metadata": {},
   "source": [
    "## Equations\n",
    "\n",
    "Similar to code, we can also use math and equations inline and in blocks.\n",
    "For inline math, like the union of a set $S \\cup T = \\{x \\mid x \\in S \\vee x \\in T\\}$, we can use a single dollar sign to denote math: `$S \\cup T = \\{x \\mid x \\in S \\vee x \\in T\\}$`.\n",
    "\n",
    "We can also use blocks by using beginning and ending lines with two dollar signs: `$$`.\n",
    "\n",
    "$$\n",
    "\\operatorname{MSE}=\\frac{1}{n}\\sum_{i=1}^n(Y_i-\\hat{Y_i})^2\n",
    "$$\n",
    "\n",
    "```\n",
    "$$\n",
    "\\operatorname{MSE}=\\frac{1}{n}\\sum_{i=1}^n(Y_i-\\hat{Y_i})^2\n",
    "$$\n",
    "```\n",
    "\n",
    "There are many math features, including matrices:\n",
    "\n",
    "$$ A = \\begin{pmatrix}\n",
    "\\underbrace{\\begin{matrix} a_{0,0} \\\\ a_{1,0} \\\\ \\vdots \\\\ a_{m-1,0} \\end{matrix}}_{a_0} &\n",
    "\\underbrace{\\begin{matrix} a_{0,1} \\\\ a_{1,1} \\\\ \\vdots \\\\ a_{m-1,1} \\end{matrix}}_{a_1} &\n",
    "\\begin{matrix} \\dots \\\\ \\dots \\\\ \\ddots \\\\ \\dots \\end{matrix} &\n",
    "\\underbrace{\\begin{matrix} a_{0,n-1} \\\\ a_{1,n-1} \\\\ \\vdots \\\\ a_{m-1,n-1} \\end{matrix}}_{a_{n-1}} \\\\\n",
    "\\end{pmatrix}\n",
    "$$\n",
    "\n",
    "```\n",
    "$$ A = \\begin{pmatrix}\n",
    "\\underbrace{\\begin{matrix} a_{0,0} \\\\ a_{1,0} \\\\ \\vdots \\\\ a_{m-1,0} \\end{matrix}}_{a_0} &\n",
    "\\underbrace{\\begin{matrix} a_{0,1} \\\\ a_{1,1} \\\\ \\vdots \\\\ a_{m-1,1} \\end{matrix}}_{a_1} &\n",
    "\\begin{matrix} \\dots \\\\ \\dots \\\\ \\ddots \\\\ \\dots \\end{matrix} &\n",
    "\\underbrace{\\begin{matrix} a_{0,n-1} \\\\ a_{1,n-1} \\\\ \\vdots \\\\ a_{m-1,n-1} \\end{matrix}}_{a_{n-1}} \\\\\n",
    "\\end{pmatrix}\n",
    "$$\n",
    "```"
   ]
  },
  {
   "attachments": {},
   "cell_type": "markdown",
   "id": "ae940647",
   "metadata": {},
   "source": [
    "# Visualization\n",
    "\n",
    "We can also display graphics that are output from our work with data."
   ]
  },
  {
   "cell_type": "code",
   "execution_count": null,
   "id": "aedf3a28",
   "metadata": {},
   "outputs": [],
   "source": [
    "# Create some random data\n",
    "data1 = pd.DataFrame(np.random.rand(200, 4), columns=[letter for letter in \"ABCD\"])"
   ]
  },
  {
   "cell_type": "code",
   "execution_count": null,
   "id": "61598251",
   "metadata": {},
   "outputs": [],
   "source": [
    "# Display the top of the dataframe\n",
    "data1.head()"
   ]
  },
  {
   "cell_type": "code",
   "execution_count": null,
   "id": "dc88dd42",
   "metadata": {},
   "outputs": [],
   "source": [
    "# Make a histogram of the columns\n",
    "px.histogram(data1, x=\"A\").show()"
   ]
  },
  {
   "cell_type": "code",
   "execution_count": null,
   "id": "7138595e",
   "metadata": {},
   "outputs": [],
   "source": [
    "fig2 = px.scatter_matrix(data1).show()"
   ]
  },
  {
   "cell_type": "code",
   "execution_count": null,
   "id": "4be8b7e0",
   "metadata": {},
   "outputs": [],
   "source": [
    "px.scatter_3d(data1, x=\"A\", y=\"B\", z=\"C\", color=\"D\").show()"
   ]
  },
  {
   "attachments": {},
   "cell_type": "markdown",
   "id": "c6b40fc2",
   "metadata": {},
   "source": [
    "For many examples of really cool vizualizations that are easy to do (and have code samples), see the [plotly express documentation](https://plot.ly/python/plotly-express/)."
   ]
  },
  {
   "attachments": {},
   "cell_type": "markdown",
   "id": "7b91f382",
   "metadata": {},
   "source": [
    "## Cell Magics\n",
    "\n",
    "There are many forms of [cell magics](https://ipython.readthedocs.io/en/stable/interactive/magics.html#magic-time) that provide convenience features.\n",
    "\n",
    "If you find yourself getting errors for a file not being found, it may help to know where the working directory is.\n",
    "You can use the `%pwd` magic."
   ]
  },
  {
   "cell_type": "code",
   "execution_count": null,
   "id": "5392745b",
   "metadata": {},
   "outputs": [],
   "source": [
    "%pwd"
   ]
  },
  {
   "attachments": {},
   "cell_type": "markdown",
   "id": "d2f3d9b5",
   "metadata": {},
   "source": [
    "A really common issue with large text datasets is that some things take a long time to run.\n",
    "To know how long that is, we can use the `%%time` magic to get the time a cell takes to run.\n",
    "Do note how we're using two percent signs: `%%`.\n",
    "That makes the magic apply to the cell, instead of just the rest of the line."
   ]
  },
  {
   "cell_type": "code",
   "execution_count": null,
   "id": "e8cbe2ca",
   "metadata": {},
   "outputs": [],
   "source": [
    "%%time\n",
    "\n",
    "# Use time.sleep() to make this cell take some time.\n",
    "time.sleep(2)\n",
    "print(\"Done!\")"
   ]
  },
  {
   "attachments": {},
   "cell_type": "markdown",
   "id": "ade54672",
   "metadata": {},
   "source": [
    "# Sharing notebooks\n",
    "\n",
    "We have a few options to share our notebooks with others.\n",
    "\n",
    "1. If we want them to be able to run the code themselves, we should share the notebook file (`.ipynb`). Often, we will also need to send information about the environment (e.g., `requirements.txt`, `devcontainer.json`) and any data files that we rely on. Since data files may be large, you will often want to use a service like Dropbox to send them.\n",
    "1. If we only want to show the contents, we can export a version in HTML.\n",
    "    1. In the menu bar at the top of the Jupyter tab, click \". . .\", then \"Export\".\n",
    "    1. In the resulting \"Export As\" popover menu at the top, click \"HTML\".\n",
    "    1. In the next popover, click \"OK\". Alternatively, change the location or name of the file as desired before clicking \"OK\". Note that, in a container or in Codespaces, the location will be there and not (yet) in your local file system.\n",
    "    1. In the bottom left corner popup, click \"No\" when prompted \"Would you like to open the exported file?\" Choosing \"Yes\" does not work in containers or Codespaces.\n",
    "    1. Download the file to your local file system by clicking the \"Explorer\" tab on the left, right-clicking the HTML file, and selecting \"Download\". Depending on your whether you are in a container or Codespaces, you may either get a file download to your local Downloads folder or a pop-up asking where to save the file.\n"
   ]
  },
  {
   "attachments": {},
   "cell_type": "markdown",
   "id": "9080a4bd",
   "metadata": {},
   "source": [
    "# Jupyter challenges\n",
    "\n",
    "There are a few challenges when using Jupyter.\n",
    "\n",
    "1. The cell structure is flexible, but it will allow you to do things out of order, and anything you import or assign is still there, even if you change the code. To avoid this issue:\n",
    "    1. Purposefully try to keep your code in the order that it should be run.\n",
    "    1. Periodically, use \"Restart Kernel and Run All Cells...\" to make sure that your notebook runs in order.\n",
    "1. If you want to version control projects, you might remove cell outputs before committing (like the course repository does) to keep comparisons readable.\n",
    "1. It is not a good format for a manuscript (unlike [R notebooks](https://bookdown.org/yihui/rmarkdown/notebook.html)). However, it is much more capable. For something more like R notebooks, [Quarto](https://quarto.org) is shaping up to be a high-quality Python alternative.\n",
    "\n",
    "Overall, the Jupyter notebook is a great tool.\n",
    "Once you have some experience using them, you may find them fairly natural to work with."
   ]
  },
  {
   "attachments": {},
   "cell_type": "markdown",
   "id": "86f3db5f",
   "metadata": {},
   "source": [
    "# Breakout Exercises\n",
    "\n",
    "Let's do a few exercises to reinforce the concepts we learned above.\n",
    "\n",
    "\n",
    "1. import and namespace\n",
    "1. markdown\n",
    "1. Exporting HTML"
   ]
  },
  {
   "attachments": {},
   "cell_type": "markdown",
   "id": "89199871",
   "metadata": {},
   "source": [
    "## EX1: import and namespace\n",
    "\n",
    "We saw above how to import a package and inspect the namespace of it.\n",
    "Later in the course, we will be using the `pynytimes` package.\n",
    "Let's use it for an example here.\n",
    "\n",
    "1. Import the `pynytimes` package.\n",
    "1. Inspect the namespace. Which object do you think helps us create a connection to the article API?"
   ]
  },
  {
   "cell_type": "code",
   "execution_count": null,
   "id": "eecd19ae",
   "metadata": {},
   "outputs": [],
   "source": [
    "# 1-1 code"
   ]
  },
  {
   "cell_type": "code",
   "execution_count": null,
   "id": "a17467ca",
   "metadata": {},
   "outputs": [],
   "source": [
    "# 1-2 code"
   ]
  },
  {
   "attachments": {},
   "cell_type": "markdown",
   "id": "8b2cf164",
   "metadata": {},
   "source": [
    "## EX2: markdown\n",
    "\n",
    "Rememeber that we can use markdown to have rich text features. Let's try it.\n",
    "\n",
    "1. Make sure the cell below is a markdown cell.\n",
    "1. Enter the following sentence: \"Getting free excerpts from the New York Times is cool, and the readme for the package can be found here.\"\n",
    "1. Make the word \"free\" italicized and the word \"cool\" bold.\n",
    "1. Make the phrase \"found here\" a link to `https://github.com/michadenheijer/pynytimes`."
   ]
  },
  {
   "cell_type": "code",
   "execution_count": null,
   "id": "4336549d",
   "metadata": {},
   "outputs": [],
   "source": []
  },
  {
   "attachments": {},
   "cell_type": "markdown",
   "id": "f6643f2b",
   "metadata": {},
   "source": [
    "## EX3: Exporting HTML\n",
    "\n",
    "Many coauthors will be unfamiliar with using Jupyter notebooks, and it may not be a good time investment to have them set it up and learn how it works, only to review your work.\n",
    "However, if they can read it, a lot of the code will make sense.\n",
    "An easy way to share it is to export an HTML file that they can view in a web browser.\n",
    "\n",
    "1. Export this page as an HTML file.\n",
    "1. Using your computer's file browsing app, find the exported HTML file and double-click it to open it in your browser."
   ]
  }
 ],
 "metadata": {
  "kernelspec": {
   "display_name": "Python 3",
   "language": "python",
   "name": "python3"
  },
  "language_info": {
   "codemirror_mode": {
    "name": "ipython",
    "version": 3
   },
   "file_extension": ".py",
   "mimetype": "text/x-python",
   "name": "python",
   "nbconvert_exporter": "python",
   "pygments_lexer": "ipython3",
   "version": "3.12.2"
  },
  "vscode": {
   "interpreter": {
    "hash": "949777d72b0d2535278d3dc13498b2535136f6dfe0678499012e853ee9abcab1"
   }
  }
 },
 "nbformat": 4,
 "nbformat_minor": 5
}
