{
 "cells": [
  {
   "cell_type": "markdown",
   "id": "b4f88aa3",
   "metadata": {},
   "source": [
    "# Bonus: Extended topics\n",
    "\n",
    "In this notebook, we will work with the following topics:\n",
    "\n",
    "1. Polars, an alternative to Pandas\n",
    "1. Type hints"
   ]
  },
  {
   "cell_type": "code",
   "execution_count": null,
   "id": "bb59a9cc",
   "metadata": {},
   "outputs": [],
   "source": [
    "import pandas as pd\n",
    "import polars as pl"
   ]
  },
  {
   "cell_type": "markdown",
   "id": "1818c085",
   "metadata": {},
   "source": [
    "# Polars\n",
    "\n",
    "[Polars](https://pola.rs) is a high performance dataframe package, written in the Rust programming language.\n",
    "It generally has high performance, and it has some conveniences for working with large datasets that will not fit in memory, particularly when we only need a subset or aggregation of the data.\n",
    "\n",
    "[Modern Polars](https://kevinheavey.github.io/modern-polars/) shows many examples of analogous Pandas and Polars code.\n",
    "\n",
    "Below, let's rework our Pandas code from before.\n",
    "Note that there are some efficiencies we could wring out here, but we're aiming for a similar flow to the original to make the comparison clearer."
   ]
  },
  {
   "cell_type": "code",
   "execution_count": null,
   "id": "4fa0f93f",
   "metadata": {},
   "outputs": [],
   "source": [
    "LOOKUP = {\"Microsoft\": \"MSFT\", \"Google\": \"GOOG\"}\n",
    "\n",
    "firmyear = (\n",
    "    pl.from_pandas(pd.read_stata(\"../data/firmyear.dta\"))\n",
    "    .with_columns(\n",
    "        [\n",
    "            pl.col(\"year\").cast(pl.Int32),\n",
    "            pl.col(\"count_of_employees\").cast(pl.Int32),\n",
    "            pl.col(\"name\").replace(LOOKUP).alias(\"id_ticker\"),\n",
    "        ]\n",
    "    )\n",
    "    .rename({\"count_of_employees\": \"size_emp\"})\n",
    "    .sort([\"name\", \"year\"])\n",
    "    .with_columns(\n",
    "        [\n",
    "            pl.col(\"size_emp\").diff().over(\"name\").alias(\"size_emp_change\"),\n",
    "            pl.col(\"id_ticker\").str.to_lowercase(),\n",
    "        ]\n",
    "    )\n",
    ")\n",
    "\n",
    "firmyear.head()"
   ]
  },
  {
   "cell_type": "code",
   "execution_count": null,
   "id": "d5eb81c7",
   "metadata": {},
   "outputs": [],
   "source": [
    "stock = pl.read_csv(\"../data/stock.csv\")\n",
    "\n",
    "firmyear = firmyear.join(\n",
    "    stock, how=\"left\", left_on=[\"id_ticker\", \"year\"], right_on=[\"tic\", \"yr\"]\n",
    ")\n",
    "\n",
    "firmyear.head(6)"
   ]
  },
  {
   "cell_type": "code",
   "execution_count": null,
   "id": "49c5374e",
   "metadata": {},
   "outputs": [],
   "source": [
    "msft_nyt = pl.read_csv(\"../data/msft_nyt.csv\").with_columns(\n",
    "    [pl.col(\"pub_date\").str.strptime(pl.Date, \"%Y-%m-%d %H:%M:%S\")],\n",
    ")\n",
    "\n",
    "msft_nyt.head()"
   ]
  },
  {
   "cell_type": "code",
   "execution_count": null,
   "id": "46f3cf5c",
   "metadata": {},
   "outputs": [],
   "source": [
    "def query_docs(data: pl.DataFrame, ticker: str, year: int) -> pl.DataFrame:\n",
    "    filtered = data.filter(\n",
    "        (pl.col(\"id_ticker\") == ticker) & (pl.col(\"pub_date\").dt.year() == year)\n",
    "    )\n",
    "    agg = filtered.select(\n",
    "        [\n",
    "            pl.col(\"word_count\").mean().alias(\"wc_mean\"),\n",
    "            pl.col(\"word_count\").sum().alias(\"wc_sum\"),\n",
    "        ]\n",
    "    )\n",
    "    return agg.with_columns(\n",
    "        [pl.lit(ticker).alias(\"id_ticker\"), pl.lit(year).alias(\"year\")]\n",
    "    )"
   ]
  },
  {
   "cell_type": "code",
   "execution_count": null,
   "id": "ebec4464",
   "metadata": {},
   "outputs": [],
   "source": [
    "results = pl.concat(\n",
    "    [\n",
    "        query_docs(msft_nyt, row[0], row[1])\n",
    "        for row in firmyear.select([\"id_ticker\", \"year\"]).rows()\n",
    "    ]\n",
    ")\n",
    "\n",
    "firmyear = firmyear.join(results, on=[\"id_ticker\", \"year\"], how=\"left\")\n",
    "\n",
    "firmyear.head(6)"
   ]
  },
  {
   "cell_type": "markdown",
   "id": "378441db",
   "metadata": {},
   "source": [
    "As we can see above, we get substantially the same result, though it nicely omits the duplicated `tic` and `yr` columns from the pandas example."
   ]
  },
  {
   "cell_type": "markdown",
   "id": "6a3b9ec2",
   "metadata": {},
   "source": [
    "# Type hints\n",
    "\n",
    "Python supports something called [type hints](https://docs.python.org/3/library/typing.html), which are a way of annotating our code to express what types we think variables and arguments should be.\n",
    "\n",
    "It is important to note that Python itself does not enforce these (cf. statically typed languages which do), and it will run code which violates the type hints with no warnings or errors.\n",
    "However, many tools that run in VS Code or other editors can use type hints in conjunction with other tools to help us spot our own errors in logic and provide richer information for assisting us.\n",
    "\n",
    "If you hover over the use of `query_docs()` above, you'll see annotated types for the arguments and the return type of the function itself.\n",
    "If you go back to our original pandas code without type hints, you'll see those as `Unknown`."
   ]
  },
  {
   "cell_type": "code",
   "execution_count": null,
   "id": "e1de036a",
   "metadata": {},
   "outputs": [],
   "source": [
    "NO_HINT = \"No type hint provided\"\n",
    "HINT: str = \"Type hint!\""
   ]
  },
  {
   "cell_type": "code",
   "execution_count": null,
   "id": "7ba122c7",
   "metadata": {},
   "outputs": [],
   "source": [
    "def countdown_no_hint(count):\n",
    "    if count < 1 or count > 5:\n",
    "        count = 5\n",
    "    for i in range(count, 0, -1):\n",
    "        print(f\"Counting down: {i}\")\n",
    "    print(\"Done!\")"
   ]
  },
  {
   "cell_type": "code",
   "execution_count": null,
   "id": "6a8b506d",
   "metadata": {},
   "outputs": [],
   "source": [
    "countdown_no_hint(3)"
   ]
  },
  {
   "cell_type": "code",
   "execution_count": null,
   "id": "cd1b60db",
   "metadata": {},
   "outputs": [],
   "source": [
    "def countdown_hint(count: int) -> None:\n",
    "    if count < 1 or count > 5:\n",
    "        count = 5\n",
    "    for i in range(count, 0, -1):\n",
    "        print(f\"Counting down: {i}\")\n",
    "    print(\"Done!\")"
   ]
  },
  {
   "cell_type": "code",
   "execution_count": null,
   "id": "ac250024",
   "metadata": {},
   "outputs": [],
   "source": [
    "countdown_hint(3)"
   ]
  },
  {
   "cell_type": "markdown",
   "id": "cd65c968",
   "metadata": {},
   "source": [
    "Similarly, if you type in this code,\n",
    "\n",
    "```python\n",
    "countdown_hint(3.0)\n",
    "```\n",
    "\n",
    "you will see a red underline noting that there is a type issue.\n",
    "But, there's no such warning with this code:\n",
    "\n",
    "```python\n",
    "countdown_no_hint(3.0)\n",
    "```\n"
   ]
  },
  {
   "cell_type": "markdown",
   "id": "275ded91",
   "metadata": {},
   "source": [
    "**My advice:** use type hints for functions whenever you can.\n",
    "It's not always practical, because not every third-party package supports typing.\n",
    "However, a lot of them do now, so it's often straightforward to do so.\n",
    "This benefits you—via the better results from tools—and anyone reading your code who can more clearly see your intent."
   ]
  }
 ],
 "metadata": {
  "kernelspec": {
   "display_name": "Python 3",
   "language": "python",
   "name": "python3"
  },
  "language_info": {
   "codemirror_mode": {
    "name": "ipython",
    "version": 3
   },
   "file_extension": ".py",
   "mimetype": "text/x-python",
   "name": "python",
   "nbconvert_exporter": "python",
   "pygments_lexer": "ipython3",
   "version": "3.12.2"
  }
 },
 "nbformat": 4,
 "nbformat_minor": 5
}
