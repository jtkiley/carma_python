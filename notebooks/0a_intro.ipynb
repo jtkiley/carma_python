{
 "cells": [
  {
   "cell_type": "markdown",
   "id": "13bef7c3",
   "metadata": {},
   "source": [
    "# Oa: Testing\n",
    "\n",
    "This notebook runs a few simple tests of packages that we will be using in the course.\n",
    "It's not necessary to understand what is happening just yet, but you should not see errors."
   ]
  },
  {
   "cell_type": "code",
   "execution_count": null,
   "id": "88aadf9e",
   "metadata": {},
   "outputs": [],
   "source": [
    "import plotly.express as px\n",
    "from textblob import TextBlob"
   ]
  },
  {
   "cell_type": "code",
   "execution_count": null,
   "id": "d8f39f60",
   "metadata": {},
   "outputs": [],
   "source": [
    "instructions = (\n",
    "    \"This notebook runs a few simple tests of packages\"\n",
    "    \"that we will be using in the course.\"\n",
    "    \"It's not necessary to understand what is happening just yet,\"\n",
    "    \"but you should not see errors.\"\n",
    ")\n",
    "\n",
    "TextBlob(instructions).sentiment"
   ]
  },
  {
   "cell_type": "code",
   "execution_count": null,
   "id": "978b2ed0",
   "metadata": {},
   "outputs": [],
   "source": [
    "iris = px.data.iris()\n",
    "iris.head(10)"
   ]
  },
  {
   "cell_type": "code",
   "execution_count": null,
   "id": "f88251f8",
   "metadata": {},
   "outputs": [],
   "source": [
    "iris.dtypes"
   ]
  },
  {
   "cell_type": "code",
   "execution_count": null,
   "id": "69d21166",
   "metadata": {},
   "outputs": [],
   "source": [
    "fig = px.scatter_3d(\n",
    "    iris,\n",
    "    x=\"sepal_width\",\n",
    "    y=\"sepal_length\",\n",
    "    z=\"petal_width\",\n",
    "    color=\"species\",\n",
    ")\n",
    "fig.show()"
   ]
  }
 ],
 "metadata": {
  "kernelspec": {
   "display_name": "Python 3",
   "language": "python",
   "name": "python3"
  },
  "language_info": {
   "codemirror_mode": {
    "name": "ipython",
    "version": 3
   },
   "file_extension": ".py",
   "mimetype": "text/x-python",
   "name": "python",
   "nbconvert_exporter": "python",
   "pygments_lexer": "ipython3",
   "version": "3.12.2"
  },
  "vscode": {
   "interpreter": {
    "hash": "949777d72b0d2535278d3dc13498b2535136f6dfe0678499012e853ee9abcab1"
   }
  }
 },
 "nbformat": 4,
 "nbformat_minor": 5
}
